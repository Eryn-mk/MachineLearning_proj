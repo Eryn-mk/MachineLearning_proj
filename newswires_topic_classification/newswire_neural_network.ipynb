{
 "cells": [
  {
   "cell_type": "code",
   "execution_count": null,
   "metadata": {
    "colab": {
     "base_uri": "https://localhost:8080/",
     "height": 141
    },
    "colab_type": "code",
    "id": "_0lDkFZq3ohI",
    "outputId": "be7eaa21-53f5-4389-dd87-22255634c4ea"
   },
   "outputs": [
    {
     "name": "stdout",
     "output_type": "stream",
     "text": [
      "`%tensorflow_version` only switches the major version: 1.x or 2.x.\n",
      "You set: `1.14`. This will be interpreted as: `1.x`.\n",
      "\n",
      "\n",
      "TensorFlow 1.x selected.\n"
     ]
    },
    {
     "name": "stderr",
     "output_type": "stream",
     "text": [
      "Using TensorFlow backend.\n"
     ]
    },
    {
     "name": "stdout",
     "output_type": "stream",
     "text": [
      "Requirement already satisfied: numpy==1.16.1 in /usr/local/lib/python3.6/dist-packages (1.16.1)\n"
     ]
    }
   ],
   "source": [
    "%tensorflow_version 1.14\n",
    "%matplotlib inline\n",
    "import warnings\n",
    "warnings.filterwarnings('ignore')\n",
    "\n",
    "import tensorflow as tf\n",
    "tf.logging.set_verbosity(tf.logging.ERROR)\n",
    "\n",
    "import keras\n",
    "keras.__version__\n",
    "\n",
    "!pip install numpy==1.16.1\n",
    "import numpy as np"
   ]
  },
  {
   "cell_type": "markdown",
   "metadata": {
    "colab_type": "text",
    "id": "bu5jf9gW3ohR"
   },
   "source": [
    "# Classifying newswires: a multi-class classification example\n",
    "\n",
    "In this project, I am building a network to classify Reuters newswires into 46 different mutually-exclusive topics. Since we have many \n",
    "classes, this problem is an instance of \"multi-class classification\", and since each data point should be classified into only one \n",
    "category, the problem is more specifically an instance of \"single-label, multi-class classification\"."
   ]
  },
  {
   "cell_type": "markdown",
   "metadata": {
    "colab_type": "text",
    "id": "_-s49gXW3ohT"
   },
   "source": [
    "## The Reuters dataset\n",
    "\n",
    "\n",
    "We will be working with the _Reuters dataset_, a set of short newswires and their topics, published by Reuters in 1986. It's a very simple, \n",
    "widely used toy dataset for text classification. There are 46 different topics; some topics are more represented than others, but each \n",
    "topic has at least 10 examples in the training set.\n",
    "\n",
    "Like IMDB and MNIST, the Reuters dataset comes packaged as part of Keras. Let's take a look right away:"
   ]
  },
  {
   "cell_type": "code",
   "execution_count": null,
   "metadata": {
    "colab": {
     "base_uri": "https://localhost:8080/",
     "height": 52
    },
    "colab_type": "code",
    "id": "yjSiBNZS3ohU",
    "outputId": "f6addf0b-c477-4dfa-baa5-b956a2f42180"
   },
   "outputs": [
    {
     "name": "stdout",
     "output_type": "stream",
     "text": [
      "Downloading data from https://s3.amazonaws.com/text-datasets/reuters.npz\n",
      "2113536/2110848 [==============================] - 0s 0us/step\n"
     ]
    }
   ],
   "source": [
    "from keras.datasets import reuters\n",
    "\n",
    "(train_data, train_labels), (test_data, test_labels) = reuters.load_data(num_words=10000)"
   ]
  },
  {
   "cell_type": "markdown",
   "metadata": {
    "colab_type": "text",
    "id": "-VRrIjNI3ohX"
   },
   "source": [
    "\n",
    "Like with the IMDB dataset, the argument `num_words=10000` restricts the data to the 10,000 most frequently occurring words found in the \n",
    "data.\n",
    "\n",
    "We have 8,982 training examples and 2,246 test examples:"
   ]
  },
  {
   "cell_type": "markdown",
   "metadata": {
    "colab_type": "text",
    "id": "FMdiLzvF3ohf"
   },
   "source": [
    "As with the IMDB reviews, each example is a list of integers (word indices):"
   ]
  },
  {
   "cell_type": "code",
   "execution_count": null,
   "metadata": {
    "colab": {
     "base_uri": "https://localhost:8080/",
     "height": 1000
    },
    "colab_type": "code",
    "id": "QriVgMSe3ohg",
    "outputId": "3ee8c058-89e8-4b93-8ec3-0b8a0d959268"
   },
   "outputs": [
    {
     "data": {
      "text/plain": [
       "[1,\n",
       " 2,\n",
       " 2,\n",
       " 8,\n",
       " 43,\n",
       " 10,\n",
       " 447,\n",
       " 5,\n",
       " 25,\n",
       " 207,\n",
       " 270,\n",
       " 5,\n",
       " 3095,\n",
       " 111,\n",
       " 16,\n",
       " 369,\n",
       " 186,\n",
       " 90,\n",
       " 67,\n",
       " 7,\n",
       " 89,\n",
       " 5,\n",
       " 19,\n",
       " 102,\n",
       " 6,\n",
       " 19,\n",
       " 124,\n",
       " 15,\n",
       " 90,\n",
       " 67,\n",
       " 84,\n",
       " 22,\n",
       " 482,\n",
       " 26,\n",
       " 7,\n",
       " 48,\n",
       " 4,\n",
       " 49,\n",
       " 8,\n",
       " 864,\n",
       " 39,\n",
       " 209,\n",
       " 154,\n",
       " 6,\n",
       " 151,\n",
       " 6,\n",
       " 83,\n",
       " 11,\n",
       " 15,\n",
       " 22,\n",
       " 155,\n",
       " 11,\n",
       " 15,\n",
       " 7,\n",
       " 48,\n",
       " 9,\n",
       " 4579,\n",
       " 1005,\n",
       " 504,\n",
       " 6,\n",
       " 258,\n",
       " 6,\n",
       " 272,\n",
       " 11,\n",
       " 15,\n",
       " 22,\n",
       " 134,\n",
       " 44,\n",
       " 11,\n",
       " 15,\n",
       " 16,\n",
       " 8,\n",
       " 197,\n",
       " 1245,\n",
       " 90,\n",
       " 67,\n",
       " 52,\n",
       " 29,\n",
       " 209,\n",
       " 30,\n",
       " 32,\n",
       " 132,\n",
       " 6,\n",
       " 109,\n",
       " 15,\n",
       " 17,\n",
       " 12]"
      ]
     },
     "execution_count": 3,
     "metadata": {
      "tags": []
     },
     "output_type": "execute_result"
    }
   ],
   "source": [
    "train_data[0]"
   ]
  },
  {
   "cell_type": "markdown",
   "metadata": {
    "colab_type": "text",
    "id": "kIvaOPin3ohj"
   },
   "source": [
    "Here's how you can decode it back to words, in case you are curious:"
   ]
  },
  {
   "cell_type": "code",
   "execution_count": null,
   "metadata": {
    "colab": {
     "base_uri": "https://localhost:8080/",
     "height": 90
    },
    "colab_type": "code",
    "id": "EZg6ME3Y3ohk",
    "outputId": "7adab246-0df3-48fb-a0b4-47d421b6c08e"
   },
   "outputs": [
    {
     "name": "stdout",
     "output_type": "stream",
     "text": [
      "Downloading data from https://s3.amazonaws.com/text-datasets/reuters_word_index.json\n",
      "557056/550378 [==============================] - 0s 0us/step\n",
      "The decoded text:? ? ? said as a result of its december acquisition of space co it expects earnings per share in 1987 of 1 15 to 1 30 dlrs per share up from 70 cts in 1986 the company said pretax net should rise to nine to 10 mln dlrs from six mln dlrs in 1986 and rental operation revenues to 19 to 22 mln dlrs from 12 5 mln dlrs it said cash flow per share this year should be 2 50 to three dlrs reuter 3\n"
     ]
    }
   ],
   "source": [
    "word_index = reuters.get_word_index()\n",
    "reverse_word_index = dict([(value, key) for (key, value) in word_index.items()])\n",
    "# Note that our indices were offset by 3\n",
    "# because 0, 1 and 2 are reserved indices for \"padding\", \"start of sequence\", and \"unknown\".\n",
    "decoded_newswire = ' '.join([reverse_word_index.get(i - 3, '?') for i in train_data[0]])\n",
    "\n",
    "print(\"The decoded text:\" + decoded_newswire)"
   ]
  },
  {
   "cell_type": "markdown",
   "metadata": {
    "colab_type": "text",
    "id": "yntI1JS33oho"
   },
   "source": [
    "The label associated with an example is an integer between 0 and 45: a topic index."
   ]
  },
  {
   "cell_type": "code",
   "execution_count": null,
   "metadata": {
    "colab": {
     "base_uri": "https://localhost:8080/",
     "height": 35
    },
    "colab_type": "code",
    "id": "swMqUzqz3ohq",
    "outputId": "54e58da8-d732-495b-b0fc-dbe4d2e00498"
   },
   "outputs": [
    {
     "data": {
      "text/plain": [
       "3"
      ]
     },
     "execution_count": 5,
     "metadata": {
      "tags": []
     },
     "output_type": "execute_result"
    }
   ],
   "source": [
    "train_labels[0]"
   ]
  },
  {
   "cell_type": "markdown",
   "metadata": {
    "colab_type": "text",
    "id": "fsLn40NK3oht"
   },
   "source": [
    "## Preparing the data\n",
    "\n",
    "We can vectorize the data with the exact same code as in our previous example:"
   ]
  },
  {
   "cell_type": "code",
   "execution_count": null,
   "metadata": {
    "colab": {},
    "colab_type": "code",
    "id": "NDol7z_43ohu"
   },
   "outputs": [],
   "source": [
    "import numpy as np\n",
    "\n",
    "def vectorize_sequences(sequences, dimension=10000):\n",
    "    results = np.zeros((len(sequences), dimension))\n",
    "    for i, sequence in enumerate(sequences):\n",
    "        results[i, sequence] = 1.\n",
    "    return results\n",
    "\n",
    "# Our vectorized training data\n",
    "x_train = vectorize_sequences(train_data)\n",
    "# Our vectorized test data\n",
    "x_test = vectorize_sequences(test_data)"
   ]
  },
  {
   "cell_type": "markdown",
   "metadata": {
    "colab_type": "text",
    "id": "9pte7Qr63ohv"
   },
   "source": [
    "\n",
    "Use \"one-hot\" encoding to vectorize the labels. One-hot encoding is a widely used format for categorical data, also called \"categorical encoding\". In our case, one-hot encoding of our labels consists in embedding each label as an all-zero vector with a 1 in the place of the label index. Note that there is a built-in way to do this in Keras."
   ]
  },
  {
   "cell_type": "code",
   "execution_count": null,
   "metadata": {
    "colab": {},
    "colab_type": "code",
    "id": "XO_SmjOD3ohy"
   },
   "outputs": [],
   "source": [
    "from keras.utils.np_utils import to_categorical\n",
    "\n",
    "one_hot_train_labels = to_categorical(train_labels)\n",
    "one_hot_test_labels = to_categorical(test_labels)\n"
   ]
  },
  {
   "cell_type": "markdown",
   "metadata": {
    "colab_type": "text",
    "id": "rMvTFcc03ohz"
   },
   "source": [
    "## Building our network\n",
    "\n",
    "\n",
    "In a stack of `Dense` layers like what we were using, each layer can only access information present in the output of the previous layer. \n",
    "If one layer drops some information relevant to the classification problem, this information can never be recovered by later layers: each \n",
    "layer can potentially become an \"information bottleneck\". In our previous example, we were using 16-dimensional intermediate layers, but a \n",
    "16-dimensional space may be too limited to learn to separate 46 different classes: such small layers may act as information bottlenecks, \n",
    "permanently dropping relevant information.\n",
    "\n",
    "For this reason we will use larger layers. Let's go with 64 units:"
   ]
  },
  {
   "cell_type": "code",
   "execution_count": null,
   "metadata": {
    "colab": {},
    "colab_type": "code",
    "id": "HdhwRTjx3ohz"
   },
   "outputs": [],
   "source": [
    "from keras import models\n",
    "from keras import layers\n",
    "\n",
    "network = models.Sequential()\n",
    "network.add(layers.Dense(64, activation = 'relu', input_shape = (10000,)))\n",
    "network.add(layers.Dense(64, activation = 'relu'))\n",
    "network.add(layers.Dense(46, activation='softmax'))"
   ]
  },
  {
   "cell_type": "markdown",
   "metadata": {
    "colab_type": "text",
    "id": "V-Aj666N3oh1"
   },
   "source": [
    "\n",
    "There are two other things you should note about this architecture:\n",
    "\n",
    "* We are ending the network with a `Dense` layer of size 46. This means that for each input sample, our network will output a \n",
    "46-dimensional vector. Each entry in this vector (each dimension) will encode a different output class.\n",
    "* The last layer uses a `softmax` activation. You have already seen this pattern in the MNIST example. It means that the network will \n",
    "output a _probability distribution_ over the 46 different output classes, i.e. for every input sample, the network will produce a \n",
    "46-dimensional output vector where `output[i]` is the probability that the sample belongs to class `i`. The 46 scores will sum to 1.\n",
    "\n",
    "The best loss function to use in this case is `categorical_crossentropy`. It measures the distance between two probability distributions: \n",
    "in our case, between the probability distribution output by our network, and the true distribution of the labels. By minimizing the \n",
    "distance between these two distributions, we train our network to output something as close as possible to the true labels."
   ]
  },
  {
   "cell_type": "code",
   "execution_count": null,
   "metadata": {
    "colab": {},
    "colab_type": "code",
    "id": "AhmA6zNZ3oh1"
   },
   "outputs": [],
   "source": [
    "network.compile(\n",
    "    optimizer = 'rmsprop',\n",
    "    loss = 'categorical_crossentropy',\n",
    "    metrics = ['accuracy']\n",
    ")"
   ]
  },
  {
   "cell_type": "markdown",
   "metadata": {
    "colab_type": "text",
    "id": "TGB_cp8B3oh2"
   },
   "source": [
    "## Validating our approach\n",
    "\n",
    "Let's set apart 1,000 samples in our training data to use as a validation set:"
   ]
  },
  {
   "cell_type": "markdown",
   "metadata": {
    "colab_type": "text",
    "id": "j3a36vpRr0OH"
   },
   "source": [
    "<font color = blue> \n",
    "### <font color = blue> Create two funtions to plot prediction loss and accuracy on both training and validation data. \n",
    "> for convenience of later usage </font>\n"
   ]
  },
  {
   "cell_type": "code",
   "execution_count": null,
   "metadata": {
    "colab": {},
    "colab_type": "code",
    "id": "crhxPN3przYn"
   },
   "outputs": [],
   "source": [
    "import matplotlib.pyplot as plt\n",
    "\n",
    "# training loss\n",
    "def plotLoss(history):\n",
    "  loss = history.history['loss']\n",
    "  val_loss = history.history['val_loss']\n",
    "\n",
    "  epochs = range(1, len(acc) + 1)\n",
    "\n",
    "  # \"bo\" is for \"blue dot\"\n",
    "  plt.plot(epochs, loss, 'bo', label='Training loss')\n",
    "  # b is for \"solid blue line\"\n",
    "  plt.plot(epochs, val_loss, 'b', label='Validation loss')\n",
    "  plt.title('Training and validation loss')\n",
    "  plt.xlabel('Epochs')\n",
    "  plt.ylabel('Loss')\n",
    "  plt.legend()\n",
    "\n",
    "  plt.show()\n",
    "\n",
    "def plotAccuracy(history):\n",
    "  acc = history.history['accuracy']\n",
    "  val_acc = history.history['val_accuracy']\n",
    "\n",
    "  plt.plot(epochs, acc, 'bo', label='Training acc')\n",
    "  plt.plot(epochs, val_acc, 'b', label='Validation acc')\n",
    "  plt.title('Training and validation accuracy')\n",
    "  plt.xlabel('Epochs')\n",
    "  plt.ylabel('Loss')\n",
    "  plt.legend()\n",
    "\n",
    "  plt.show()\n"
   ]
  },
  {
   "cell_type": "code",
   "execution_count": null,
   "metadata": {
    "colab": {},
    "colab_type": "code",
    "id": "Y3eyzgOA3oh2"
   },
   "outputs": [],
   "source": [
    "x_val = x_train[:1000]\n",
    "partial_x_train = x_train[1000:]\n",
    "\n",
    "y_val = one_hot_train_labels[:1000]\n",
    "partial_y_train = one_hot_train_labels[1000:]"
   ]
  },
  {
   "cell_type": "markdown",
   "metadata": {
    "colab_type": "text",
    "id": "vIFUZkt43oh3"
   },
   "source": [
    "Now let's train our network for 20 epochs:"
   ]
  },
  {
   "cell_type": "code",
   "execution_count": null,
   "metadata": {
    "colab": {
     "base_uri": "https://localhost:8080/",
     "height": 746
    },
    "colab_type": "code",
    "id": "MM57jbod3oh3",
    "outputId": "e0aa1318-ffee-43d7-b240-fe5daa9e1ea0"
   },
   "outputs": [
    {
     "name": "stdout",
     "output_type": "stream",
     "text": [
      "Train on 7982 samples, validate on 1000 samples\n",
      "Epoch 1/20\n",
      "7982/7982 [==============================] - 1s 177us/step - loss: 2.2047 - accuracy: 0.5862 - val_loss: 1.4041 - val_accuracy: 0.6910\n",
      "Epoch 2/20\n",
      "7982/7982 [==============================] - 1s 140us/step - loss: 1.1542 - accuracy: 0.7482 - val_loss: 1.2314 - val_accuracy: 0.7120\n",
      "Epoch 3/20\n",
      "7982/7982 [==============================] - 1s 141us/step - loss: 0.8406 - accuracy: 0.8191 - val_loss: 1.0141 - val_accuracy: 0.7910\n",
      "Epoch 4/20\n",
      "7982/7982 [==============================] - 1s 139us/step - loss: 0.6227 - accuracy: 0.8668 - val_loss: 0.9800 - val_accuracy: 0.7920\n",
      "Epoch 5/20\n",
      "7982/7982 [==============================] - 1s 141us/step - loss: 0.4647 - accuracy: 0.9037 - val_loss: 0.9031 - val_accuracy: 0.8090\n",
      "Epoch 6/20\n",
      "7982/7982 [==============================] - 1s 141us/step - loss: 0.3539 - accuracy: 0.9245 - val_loss: 0.8852 - val_accuracy: 0.8170\n",
      "Epoch 7/20\n",
      "7982/7982 [==============================] - 1s 139us/step - loss: 0.2803 - accuracy: 0.9379 - val_loss: 0.8951 - val_accuracy: 0.8210\n",
      "Epoch 8/20\n",
      "7982/7982 [==============================] - 1s 140us/step - loss: 0.2253 - accuracy: 0.9465 - val_loss: 0.9311 - val_accuracy: 0.8090\n",
      "Epoch 9/20\n",
      "7982/7982 [==============================] - 1s 141us/step - loss: 0.1973 - accuracy: 0.9500 - val_loss: 0.9495 - val_accuracy: 0.8230\n",
      "Epoch 10/20\n",
      "7982/7982 [==============================] - 1s 140us/step - loss: 0.1731 - accuracy: 0.9524 - val_loss: 0.9997 - val_accuracy: 0.7990\n",
      "Epoch 11/20\n",
      "7982/7982 [==============================] - 1s 140us/step - loss: 0.1551 - accuracy: 0.9548 - val_loss: 0.9909 - val_accuracy: 0.8110\n",
      "Epoch 12/20\n",
      "7982/7982 [==============================] - 1s 140us/step - loss: 0.1412 - accuracy: 0.9579 - val_loss: 1.1381 - val_accuracy: 0.7840\n",
      "Epoch 13/20\n",
      "7982/7982 [==============================] - 1s 138us/step - loss: 0.1372 - accuracy: 0.9562 - val_loss: 1.2233 - val_accuracy: 0.7780\n",
      "Epoch 14/20\n",
      "7982/7982 [==============================] - 1s 138us/step - loss: 0.1320 - accuracy: 0.9560 - val_loss: 1.1796 - val_accuracy: 0.7900\n",
      "Epoch 15/20\n",
      "7982/7982 [==============================] - 1s 140us/step - loss: 0.1204 - accuracy: 0.9594 - val_loss: 1.1015 - val_accuracy: 0.8100\n",
      "Epoch 16/20\n",
      "7982/7982 [==============================] - 1s 141us/step - loss: 0.1265 - accuracy: 0.9570 - val_loss: 1.2085 - val_accuracy: 0.7890\n",
      "Epoch 17/20\n",
      "7982/7982 [==============================] - 1s 142us/step - loss: 0.1162 - accuracy: 0.9555 - val_loss: 1.0788 - val_accuracy: 0.7990\n",
      "Epoch 18/20\n",
      "7982/7982 [==============================] - 1s 142us/step - loss: 0.1174 - accuracy: 0.9562 - val_loss: 1.1370 - val_accuracy: 0.7950\n",
      "Epoch 19/20\n",
      "7982/7982 [==============================] - 1s 142us/step - loss: 0.1176 - accuracy: 0.9567 - val_loss: 1.2615 - val_accuracy: 0.7900\n",
      "Epoch 20/20\n",
      "7982/7982 [==============================] - 1s 143us/step - loss: 0.1126 - accuracy: 0.9579 - val_loss: 1.1793 - val_accuracy: 0.8020\n"
     ]
    }
   ],
   "source": [
    "# TODO: fit the model with the training dataset and provide validation data \n",
    "# to help check overfitting\n",
    "history = network.fit(\n",
    "    partial_x_train, \n",
    "    partial_y_train, \n",
    "    epochs=20, \n",
    "    batch_size=256, \n",
    "    validation_data=(x_val, y_val)\n",
    ")"
   ]
  },
  {
   "cell_type": "markdown",
   "metadata": {
    "colab_type": "text",
    "id": "Rq5P0gWQ3oh5"
   },
   "source": [
    "Let's display its loss and accuracy curves to help identify when it starts to overfit."
   ]
  },
  {
   "cell_type": "code",
   "execution_count": null,
   "metadata": {
    "colab": {
     "base_uri": "https://localhost:8080/",
     "height": 35
    },
    "colab_type": "code",
    "id": "Pp2W8z4UDlVq",
    "outputId": "742c678a-c910-459a-9ff7-f52e68f2fa1a"
   },
   "outputs": [
    {
     "data": {
      "text/plain": [
       "dict_keys(['val_loss', 'val_accuracy', 'loss', 'accuracy'])"
      ]
     },
     "execution_count": 12,
     "metadata": {
      "tags": []
     },
     "output_type": "execute_result"
    }
   ],
   "source": [
    "history_dict = history.history\n",
    "history_dict.keys()"
   ]
  },
  {
   "cell_type": "code",
   "execution_count": null,
   "metadata": {
    "colab": {
     "base_uri": "https://localhost:8080/",
     "height": 295
    },
    "colab_type": "code",
    "id": "OSLner0SsmFS",
    "outputId": "efb6907e-4c52-4129-cc76-582bc7322561"
   },
   "outputs": [
    {
     "data": {
      "image/png": "[encoded data removed]",
      "text/plain": [
       "<Figure size 432x288 with 1 Axes>"
      ]
     },
     "metadata": {
      "needs_background": "light",
      "tags": []
     },
     "output_type": "display_data"
    }
   ],
   "source": [
    "plotLoss(history)"
   ]
  },
  {
   "cell_type": "code",
   "execution_count": null,
   "metadata": {
    "colab": {
     "base_uri": "https://localhost:8080/",
     "height": 295
    },
    "colab_type": "code",
    "id": "qaKvNZbas0er",
    "outputId": "c3baa4e6-72da-4fe5-88d0-45bbecca1aef"
   },
   "outputs": [
    {
     "data": {
      "image/png": "[encoded data removed]",
      "text/plain": [
       "<Figure size 432x288 with 1 Axes>"
      ]
     },
     "metadata": {
      "needs_background": "light",
      "tags": []
     },
     "output_type": "display_data"
    }
   ],
   "source": [
    "plotAccuracy(history)"
   ]
  },
  {
   "cell_type": "markdown",
   "metadata": {
    "colab_type": "text",
    "id": "LUarkgZd3oh7"
   },
   "source": [
    "It seems that the network starts overfitting after certain epochs. Let's train a new network from scratch for fewer epochs before it starts overfitting, then let's evaluate it on the test set:"
   ]
  },
  {
   "cell_type": "code",
   "execution_count": null,
   "metadata": {
    "colab": {
     "base_uri": "https://localhost:8080/",
     "height": 301
    },
    "colab_type": "code",
    "id": "IciZ2dMP3oh8",
    "outputId": "8956d48b-a497-4eda-e3bc-2c62981fed0e"
   },
   "outputs": [
    {
     "name": "stdout",
     "output_type": "stream",
     "text": [
      "Train on 7982 samples, validate on 1000 samples\n",
      "Epoch 1/7\n",
      "7982/7982 [==============================] - 1s 154us/step - loss: 2.1822 - accuracy: 0.5749 - val_loss: 1.4253 - val_accuracy: 0.6770\n",
      "Epoch 2/7\n",
      "7982/7982 [==============================] - 1s 142us/step - loss: 1.1582 - accuracy: 0.7415 - val_loss: 1.1276 - val_accuracy: 0.7530\n",
      "Epoch 3/7\n",
      "7982/7982 [==============================] - 1s 140us/step - loss: 0.8353 - accuracy: 0.8192 - val_loss: 0.9894 - val_accuracy: 0.7870\n",
      "Epoch 4/7\n",
      "7982/7982 [==============================] - 1s 142us/step - loss: 0.6175 - accuracy: 0.8703 - val_loss: 0.9245 - val_accuracy: 0.8050\n",
      "Epoch 5/7\n",
      "7982/7982 [==============================] - 1s 141us/step - loss: 0.4600 - accuracy: 0.9052 - val_loss: 0.9050 - val_accuracy: 0.8120\n",
      "Epoch 6/7\n",
      "7982/7982 [==============================] - 1s 142us/step - loss: 0.3461 - accuracy: 0.9261 - val_loss: 0.9022 - val_accuracy: 0.8160\n",
      "Epoch 7/7\n",
      "7982/7982 [==============================] - 1s 140us/step - loss: 0.2780 - accuracy: 0.9391 - val_loss: 0.9062 - val_accuracy: 0.8230\n"
     ]
    },
    {
     "data": {
      "text/plain": [
       "<keras.callbacks.callbacks.History at 0x7f257a004e80>"
      ]
     },
     "execution_count": 28,
     "metadata": {
      "tags": []
     },
     "output_type": "execute_result"
    }
   ],
   "source": [
    "# retrain the model with the 7 epoches to avoid overfitting\n",
    "# from plots, the validation loss and accuracy seem to peak at the sixth epoch\n",
    "network2 = models.Sequential()\n",
    "network2.add(layers.Dense(64, activation = 'relu', input_shape = (10000,)))\n",
    "network2.add(layers.Dense(64, activation = 'relu'))\n",
    "network2.add(layers.Dense(46, activation='softmax'))\n",
    "\n",
    "network2.compile(\n",
    "    optimizer = 'rmsprop',\n",
    "    loss='categorical_crossentropy',\n",
    "    metrics=['accuracy']\n",
    ")\n",
    "\n",
    "network2.fit(\n",
    "    partial_x_train, \n",
    "    partial_y_train, \n",
    "    epochs=7, \n",
    "    batch_size=256, \n",
    "    validation_data=(x_val, y_val)\n",
    ")"
   ]
  },
  {
   "cell_type": "markdown",
   "metadata": {
    "colab_type": "text",
    "id": "XQ3VcXyx3oh_"
   },
   "source": [
    "\n",
    "Your model should reach an accuracy of ~78%. With a balanced binary classification problem, the accuracy reached by a purely random classifier \n",
    "would be 50%, but in our case it is closer to 19%, so our results seem pretty good, at least when compared to a random baseline."
   ]
  },
  {
   "cell_type": "code",
   "execution_count": null,
   "metadata": {
    "colab": {
     "base_uri": "https://localhost:8080/",
     "height": 52
    },
    "colab_type": "code",
    "id": "kkWwLJ02GTQb",
    "outputId": "342db17c-ef55-4045-aecd-b75d6a89c3f1"
   },
   "outputs": [
    {
     "name": "stdout",
     "output_type": "stream",
     "text": [
      "2246/2246 [==============================] - 0s 88us/step\n",
      "[0.9722187584888055, 0.7956367135047913]\n"
     ]
    }
   ],
   "source": [
    "score = network2.evaluate(x_test, one_hot_test_labels)\n",
    "print(score) # ~79.56%"
   ]
  },
  {
   "cell_type": "markdown",
   "metadata": {
    "colab_type": "text",
    "id": "FEzjb1m33oiA"
   },
   "source": [
    "## Generating predictions on new data\n",
    "\n",
    "We can verify that the `predict` method of our model instance returns a probability distribution over all 46 topics. Let's generate topic \n",
    "predictions for all of the test data:"
   ]
  },
  {
   "cell_type": "code",
   "execution_count": null,
   "metadata": {
    "colab": {
     "base_uri": "https://localhost:8080/",
     "height": 248
    },
    "colab_type": "code",
    "id": "lIuTWvUq3oiB",
    "outputId": "5370de65-ba3a-4929-8b7b-d5aca5271fe7"
   },
   "outputs": [
    {
     "data": {
      "text/plain": [
       "array([[3.9734150e-05, 6.8766833e-04, 2.2986167e-05, ..., 5.9450453e-05,\n",
       "        1.9366154e-05, 4.5709832e-05],\n",
       "       [1.6219118e-03, 6.9599696e-02, 2.6839730e-04, ..., 1.8241764e-07,\n",
       "        2.8704826e-06, 5.1657007e-06],\n",
       "       [2.9174511e-03, 5.4510492e-01, 3.9912267e-03, ..., 4.6382520e-05,\n",
       "        9.7469390e-05, 7.5486925e-05],\n",
       "       ...,\n",
       "       [8.0484933e-06, 4.7631137e-04, 2.1501677e-05, ..., 7.2164739e-06,\n",
       "        4.4382705e-05, 7.3129580e-05],\n",
       "       [1.7533540e-03, 2.2108087e-01, 8.3659287e-04, ..., 4.2312144e-04,\n",
       "        3.8297393e-04, 2.2098292e-03],\n",
       "       [1.8888563e-03, 6.5524095e-01, 1.1280705e-03, ..., 9.9781228e-06,\n",
       "        5.0169445e-05, 6.8920715e-05]], dtype=float32)"
      ]
     },
     "execution_count": 18,
     "metadata": {
      "tags": []
     },
     "output_type": "execute_result"
    }
   ],
   "source": [
    "# TODO: use the learnt neural network to make a prediction on \n",
    "# the test data \n",
    "network2.predict(x_test)"
   ]
  },
  {
   "cell_type": "markdown",
   "metadata": {
    "colab_type": "text",
    "id": "O1LzmGXx3oiB"
   },
   "source": [
    "Each entry in `predictions` is a vector of length 46. **The** largest entry is the predicted class, i.e. the class with the highest probability:"
   ]
  },
  {
   "cell_type": "code",
   "execution_count": null,
   "metadata": {
    "colab": {
     "base_uri": "https://localhost:8080/",
     "height": 35
    },
    "colab_type": "code",
    "id": "L3RyKAsw3oiB",
    "outputId": "b7d3cee0-31ab-4df7-d43d-7e06385052bf"
   },
   "outputs": [
    {
     "data": {
      "text/plain": [
       "0.7956366874443455"
      ]
     },
     "execution_count": 19,
     "metadata": {
      "tags": []
     },
     "output_type": "execute_result"
    }
   ],
   "source": [
    "# TODO: evaluate model performan in terms of accuracy on prediction against the ground truth.\n",
    "from sklearn.metrics import accuracy_score\n",
    "\n",
    "test_prob = network2.predict(x_test)\n",
    "\n",
    "def class_predict(test_prob):\n",
    "  y_pred = []\n",
    "  for i in test_prob:\n",
    "    y_pred.append(np.argmax(i))\n",
    "  return y_pred # return the class \n",
    "\n",
    "y_pred = class_predict(test_prob)\n",
    "\n",
    "def accuracy_compute(y_pred, test_labels):\n",
    "  y_true = []\n",
    "  for i in test_labels:\n",
    "    y_true.append(np.argmax(i))\n",
    "  return accuracy_score(y_true, y_pred)\n",
    "\n",
    "accuracy_compute(y_pred, one_hot_test_labels)\n",
    "# the acc score is ~78%"
   ]
  },
  {
   "cell_type": "code",
   "execution_count": null,
   "metadata": {
    "colab": {
     "base_uri": "https://localhost:8080/",
     "height": 35
    },
    "colab_type": "code",
    "id": "BeG1ZTCaWZDp",
    "outputId": "3094b685-492e-4215-9024-575bc455316d"
   },
   "outputs": [
    {
     "data": {
      "text/plain": [
       "3"
      ]
     },
     "execution_count": 20,
     "metadata": {
      "tags": []
     },
     "output_type": "execute_result"
    }
   ],
   "source": [
    "# Have a look at the prediction: the class of the first prediction is 3\n",
    "np.argmax(test_prob[0])"
   ]
  },
  {
   "cell_type": "code",
   "execution_count": null,
   "metadata": {
    "colab": {
     "base_uri": "https://localhost:8080/",
     "height": 52
    },
    "colab_type": "code",
    "id": "1h4vbhooNTAE",
    "outputId": "447b451d-6daa-47f0-ce3c-49178a5a7ffb"
   },
   "outputs": [
    {
     "name": "stdout",
     "output_type": "stream",
     "text": [
      "2246/2246 [==============================] - 0s 91us/step\n",
      "[0.9722187584888055, 0.7956367135047913]\n"
     ]
    }
   ],
   "source": [
    "# built-in evaluation accuracy\n",
    "score = network2.evaluate(x_test, one_hot_test_labels)\n",
    "print(score)"
   ]
  },
  {
   "cell_type": "markdown",
   "metadata": {
    "colab_type": "text",
    "id": "Pw3GlSYG3oiH"
   },
   "source": [
    "## On the importance of having sufficiently large intermediate layers\n",
    "\n",
    "\n",
    "We mentioned earlier that since our final outputs were 46-dimensional, we should avoid intermediate layers with much less than 46 hidden \n",
    "units. Now let's try to see what happens when we introduce an information bottleneck by having intermediate layers significantly less than \n",
    "46-dimensional, e.g. 4-dimensional."
   ]
  },
  {
   "cell_type": "code",
   "execution_count": null,
   "metadata": {
    "colab": {
     "base_uri": "https://localhost:8080/",
     "height": 746
    },
    "colab_type": "code",
    "id": "emfKokRe3oiH",
    "outputId": "973ca6b3-8581-4b54-c768-3c6326bbac17"
   },
   "outputs": [
    {
     "name": "stdout",
     "output_type": "stream",
     "text": [
      "Train on 7982 samples, validate on 1000 samples\n",
      "Epoch 1/20\n",
      "7982/7982 [==============================] - 1s 103us/step - loss: 3.7533 - accuracy: 0.0621 - val_loss: 3.6350 - val_accuracy: 0.0170\n",
      "Epoch 2/20\n",
      "7982/7982 [==============================] - 1s 88us/step - loss: 3.4945 - accuracy: 0.0133 - val_loss: 3.3040 - val_accuracy: 0.0750\n",
      "Epoch 3/20\n",
      "7982/7982 [==============================] - 1s 89us/step - loss: 3.1176 - accuracy: 0.1973 - val_loss: 2.9051 - val_accuracy: 0.2220\n",
      "Epoch 4/20\n",
      "7982/7982 [==============================] - 1s 89us/step - loss: 2.7374 - accuracy: 0.2164 - val_loss: 2.5682 - val_accuracy: 0.2220\n",
      "Epoch 5/20\n",
      "7982/7982 [==============================] - 1s 88us/step - loss: 2.4247 - accuracy: 0.2160 - val_loss: 2.2883 - val_accuracy: 0.2260\n",
      "Epoch 6/20\n",
      "7982/7982 [==============================] - 1s 90us/step - loss: 2.1587 - accuracy: 0.2477 - val_loss: 2.0647 - val_accuracy: 0.4080\n",
      "Epoch 7/20\n",
      "7982/7982 [==============================] - 1s 88us/step - loss: 1.9682 - accuracy: 0.5101 - val_loss: 1.9251 - val_accuracy: 0.5430\n",
      "Epoch 8/20\n",
      "7982/7982 [==============================] - 1s 88us/step - loss: 1.8346 - accuracy: 0.5462 - val_loss: 1.8131 - val_accuracy: 0.5490\n",
      "Epoch 9/20\n",
      "7982/7982 [==============================] - 1s 88us/step - loss: 1.7237 - accuracy: 0.5723 - val_loss: 1.7238 - val_accuracy: 0.5660\n",
      "Epoch 10/20\n",
      "7982/7982 [==============================] - 1s 88us/step - loss: 1.6274 - accuracy: 0.5822 - val_loss: 1.6481 - val_accuracy: 0.5760\n",
      "Epoch 11/20\n",
      "7982/7982 [==============================] - 1s 88us/step - loss: 1.5431 - accuracy: 0.5902 - val_loss: 1.5813 - val_accuracy: 0.5830\n",
      "Epoch 12/20\n",
      "7982/7982 [==============================] - 1s 88us/step - loss: 1.4717 - accuracy: 0.5941 - val_loss: 1.5303 - val_accuracy: 0.5920\n",
      "Epoch 13/20\n",
      "7982/7982 [==============================] - 1s 88us/step - loss: 1.4129 - accuracy: 0.6004 - val_loss: 1.4897 - val_accuracy: 0.6010\n",
      "Epoch 14/20\n",
      "7982/7982 [==============================] - 1s 88us/step - loss: 1.3636 - accuracy: 0.6233 - val_loss: 1.4598 - val_accuracy: 0.6240\n",
      "Epoch 15/20\n",
      "7982/7982 [==============================] - 1s 87us/step - loss: 1.3229 - accuracy: 0.6391 - val_loss: 1.4367 - val_accuracy: 0.6330\n",
      "Epoch 16/20\n",
      "7982/7982 [==============================] - 1s 86us/step - loss: 1.2878 - accuracy: 0.6508 - val_loss: 1.4166 - val_accuracy: 0.6370\n",
      "Epoch 17/20\n",
      "7982/7982 [==============================] - 1s 88us/step - loss: 1.2565 - accuracy: 0.6564 - val_loss: 1.4015 - val_accuracy: 0.6430\n",
      "Epoch 18/20\n",
      "7982/7982 [==============================] - 1s 89us/step - loss: 1.2278 - accuracy: 0.6620 - val_loss: 1.3888 - val_accuracy: 0.6490\n",
      "Epoch 19/20\n",
      "7982/7982 [==============================] - 1s 89us/step - loss: 1.2019 - accuracy: 0.6719 - val_loss: 1.3764 - val_accuracy: 0.6460\n",
      "Epoch 20/20\n",
      "7982/7982 [==============================] - 1s 87us/step - loss: 1.1773 - accuracy: 0.6766 - val_loss: 1.3670 - val_accuracy: 0.6520\n"
     ]
    }
   ],
   "source": [
    "# TODO: build a neural network with 4 neuron units in the hidden layer with the validation data \n",
    "# and evaluate its performance on the test data.\n",
    "network3 = models.Sequential()\n",
    "network3.add(layers.Dense(4, activation = 'relu', input_shape = (10000,)))\n",
    "network3.add(layers.Dense(4, activation = 'relu'))\n",
    "network3.add(layers.Dense(46, activation='softmax'))\n",
    "\n",
    "network3.compile(\n",
    "    optimizer = 'rmsprop',\n",
    "    loss='categorical_crossentropy',\n",
    "    metrics=['accuracy']\n",
    ")\n",
    "\n",
    "his = network3.fit(\n",
    "    partial_x_train, \n",
    "    partial_y_train, \n",
    "    epochs=20, \n",
    "    batch_size=256, \n",
    "    validation_data=(x_val, y_val)\n",
    ")\n"
   ]
  },
  {
   "cell_type": "code",
   "execution_count": null,
   "metadata": {
    "colab": {
     "base_uri": "https://localhost:8080/",
     "height": 52
    },
    "colab_type": "code",
    "id": "VcPpZtn3TRDn",
    "outputId": "091455ad-4978-4d94-c66c-fa0401ebb877"
   },
   "outputs": [
    {
     "name": "stdout",
     "output_type": "stream",
     "text": [
      "2246/2246 [==============================] - 0s 77us/step\n",
      "[1.4586108792390764, 0.6331255435943604]\n"
     ]
    }
   ],
   "source": [
    "# Accuracy drops to ~63%\n",
    "res = network3.evaluate(x_test, one_hot_test_labels)\n",
    "print(res)"
   ]
  },
  {
   "cell_type": "code",
   "execution_count": null,
   "metadata": {
    "colab": {
     "base_uri": "https://localhost:8080/",
     "height": 295
    },
    "colab_type": "code",
    "id": "7pILy2TmtP6N",
    "outputId": "3b09b865-0b08-4b96-f2ed-09112e9f4d31"
   },
   "outputs": [
    {
     "data": {
      "image/png": "[encoded data removed]",
      "text/plain": [
       "<Figure size 432x288 with 1 Axes>"
      ]
     },
     "metadata": {
      "needs_background": "light",
      "tags": []
     },
     "output_type": "display_data"
    }
   ],
   "source": [
    "plotLoss(his)"
   ]
  },
  {
   "cell_type": "code",
   "execution_count": null,
   "metadata": {
    "colab": {
     "base_uri": "https://localhost:8080/",
     "height": 295
    },
    "colab_type": "code",
    "id": "gh7IdRR7tUWR",
    "outputId": "d8f8f3ff-ebab-4e91-f029-0cd1ff66ec18"
   },
   "outputs": [
    {
     "data": {
      "image/png": "[encoded data removed]",
      "text/plain": [
       "<Figure size 432x288 with 1 Axes>"
      ]
     },
     "metadata": {
      "needs_background": "light",
      "tags": []
     },
     "output_type": "display_data"
    }
   ],
   "source": [
    "plotAccuracy(his)"
   ]
  },
  {
   "cell_type": "markdown",
   "metadata": {
    "colab_type": "text",
    "id": "M6wV_AR23oiI"
   },
   "source": [
    "\n",
    "You should see the model performance drop. This drop is mostly due to the fact that we are now trying to compress a lot of information (enough information to recover the separation hyperplanes of 46 classes) into an intermediate space that is too low-dimensional. The network is able to cram _most_ of the necessary information into these 8-dimensional representations, but not all of it."
   ]
  },
  {
   "cell_type": "markdown",
   "metadata": {
    "colab_type": "text",
    "id": "8bFLuR8b3oiI"
   },
   "source": [
    "## Try using larger or smaller hidden layers: 32 units, and 128 units, and see if you will be able to improve the model performance on the test data.\n"
   ]
  },
  {
   "cell_type": "markdown",
   "metadata": {
    "colab_type": "text",
    "id": "reAyY6nwtvZF"
   },
   "source": [
    "# <font color = blue> \n",
    "> 32 units </font>"
   ]
  },
  {
   "cell_type": "code",
   "execution_count": null,
   "metadata": {
    "colab": {
     "base_uri": "https://localhost:8080/",
     "height": 746
    },
    "colab_type": "code",
    "id": "B1v7pFMGrEik",
    "outputId": "a8b650f2-27d0-423c-f585-6b8ff033bffe"
   },
   "outputs": [
    {
     "name": "stdout",
     "output_type": "stream",
     "text": [
      "Train on 7982 samples, validate on 1000 samples\n",
      "Epoch 1/20\n",
      "7982/7982 [==============================] - 1s 128us/step - loss: 2.6091 - accuracy: 0.5341 - val_loss: 1.7713 - val_accuracy: 0.6430\n",
      "Epoch 2/20\n",
      "7982/7982 [==============================] - 1s 111us/step - loss: 1.4341 - accuracy: 0.7052 - val_loss: 1.3371 - val_accuracy: 0.7010\n",
      "Epoch 3/20\n",
      "7982/7982 [==============================] - 1s 113us/step - loss: 1.0946 - accuracy: 0.7537 - val_loss: 1.1715 - val_accuracy: 0.7360\n",
      "Epoch 4/20\n",
      "7982/7982 [==============================] - 1s 112us/step - loss: 0.8882 - accuracy: 0.8008 - val_loss: 1.0911 - val_accuracy: 0.7620\n",
      "Epoch 5/20\n",
      "7982/7982 [==============================] - 1s 112us/step - loss: 0.7351 - accuracy: 0.8355 - val_loss: 1.0480 - val_accuracy: 0.7810\n",
      "Epoch 6/20\n",
      "7982/7982 [==============================] - 1s 112us/step - loss: 0.6113 - accuracy: 0.8647 - val_loss: 1.0054 - val_accuracy: 0.7870\n",
      "Epoch 7/20\n",
      "7982/7982 [==============================] - 1s 115us/step - loss: 0.5090 - accuracy: 0.8844 - val_loss: 1.0023 - val_accuracy: 0.7800\n",
      "Epoch 8/20\n",
      "7982/7982 [==============================] - 1s 111us/step - loss: 0.4258 - accuracy: 0.9043 - val_loss: 0.9662 - val_accuracy: 0.8060\n",
      "Epoch 9/20\n",
      "7982/7982 [==============================] - 1s 112us/step - loss: 0.3559 - accuracy: 0.9206 - val_loss: 1.0000 - val_accuracy: 0.8030\n",
      "Epoch 10/20\n",
      "7982/7982 [==============================] - 1s 111us/step - loss: 0.3028 - accuracy: 0.9301 - val_loss: 0.9810 - val_accuracy: 0.8070\n",
      "Epoch 11/20\n",
      "7982/7982 [==============================] - 1s 111us/step - loss: 0.2568 - accuracy: 0.9404 - val_loss: 1.0325 - val_accuracy: 0.7960\n",
      "Epoch 12/20\n",
      "7982/7982 [==============================] - 1s 108us/step - loss: 0.2246 - accuracy: 0.9442 - val_loss: 1.0214 - val_accuracy: 0.8060\n",
      "Epoch 13/20\n",
      "7982/7982 [==============================] - 1s 110us/step - loss: 0.1980 - accuracy: 0.9494 - val_loss: 1.0260 - val_accuracy: 0.8150\n",
      "Epoch 14/20\n",
      "7982/7982 [==============================] - 1s 110us/step - loss: 0.1778 - accuracy: 0.9515 - val_loss: 1.0424 - val_accuracy: 0.8130\n",
      "Epoch 15/20\n",
      "7982/7982 [==============================] - 1s 110us/step - loss: 0.1625 - accuracy: 0.9529 - val_loss: 1.0589 - val_accuracy: 0.8130\n",
      "Epoch 16/20\n",
      "7982/7982 [==============================] - 1s 111us/step - loss: 0.1514 - accuracy: 0.9540 - val_loss: 1.1488 - val_accuracy: 0.7960\n",
      "Epoch 17/20\n",
      "7982/7982 [==============================] - 1s 111us/step - loss: 0.1394 - accuracy: 0.9564 - val_loss: 1.1272 - val_accuracy: 0.8030\n",
      "Epoch 18/20\n",
      "7982/7982 [==============================] - 1s 112us/step - loss: 0.1342 - accuracy: 0.9545 - val_loss: 1.1378 - val_accuracy: 0.7970\n",
      "Epoch 19/20\n",
      "7982/7982 [==============================] - 1s 112us/step - loss: 0.1254 - accuracy: 0.9567 - val_loss: 1.1724 - val_accuracy: 0.7960\n",
      "Epoch 20/20\n",
      "7982/7982 [==============================] - 1s 112us/step - loss: 0.1229 - accuracy: 0.9555 - val_loss: 1.2012 - val_accuracy: 0.7970\n"
     ]
    }
   ],
   "source": [
    "# TODO: Try using larger or smaller hidden layers: 32 units, and 128 units\n",
    "network4 = models.Sequential()\n",
    "network4.add(layers.Dense(32, activation = 'relu', input_shape = (10000,)))\n",
    "network4.add(layers.Dense(32, activation = 'relu'))\n",
    "network4.add(layers.Dense(46, activation='softmax'))\n",
    "\n",
    "network4.compile(\n",
    "    optimizer = 'rmsprop',\n",
    "    loss='categorical_crossentropy',\n",
    "    metrics=['accuracy']\n",
    ")\n",
    "\n",
    "his = network4.fit(\n",
    "    partial_x_train, \n",
    "    partial_y_train, \n",
    "    epochs=20, \n",
    "    batch_size=256, \n",
    "    validation_data=(x_val, y_val)\n",
    ")"
   ]
  },
  {
   "cell_type": "code",
   "execution_count": null,
   "metadata": {
    "colab": {
     "base_uri": "https://localhost:8080/",
     "height": 295
    },
    "colab_type": "code",
    "id": "9wc9fOAOtk8_",
    "outputId": "7e4d9ee9-c9dc-4bae-ea8f-54e11669c06c"
   },
   "outputs": [
    {
     "data": {
      "image/png": "[encoded data removed]",
      "text/plain": [
       "<Figure size 432x288 with 1 Axes>"
      ]
     },
     "metadata": {
      "needs_background": "light",
      "tags": []
     },
     "output_type": "display_data"
    }
   ],
   "source": [
    "plotLoss(his)"
   ]
  },
  {
   "cell_type": "code",
   "execution_count": null,
   "metadata": {
    "colab": {
     "base_uri": "https://localhost:8080/",
     "height": 295
    },
    "colab_type": "code",
    "id": "zyF41nYctn4Z",
    "outputId": "b199f614-d0d2-412e-b8d8-c3237351c274"
   },
   "outputs": [
    {
     "data": {
      "image/png": "[encoded data removed]",
      "text/plain": [
       "<Figure size 432x288 with 1 Axes>"
      ]
     },
     "metadata": {
      "needs_background": "light",
      "tags": []
     },
     "output_type": "display_data"
    }
   ],
   "source": [
    "plotAccuracy(his)"
   ]
  },
  {
   "cell_type": "code",
   "execution_count": null,
   "metadata": {
    "colab": {
     "base_uri": "https://localhost:8080/",
     "height": 284
    },
    "colab_type": "code",
    "id": "vc_CS6GOXUkI",
    "outputId": "30287aad-63bf-4967-8bd8-d343e670f3ef"
   },
   "outputs": [
    {
     "name": "stdout",
     "output_type": "stream",
     "text": [
      "Train on 7982 samples, validate on 1000 samples\n",
      "Epoch 1/6\n",
      "7982/7982 [==============================] - 1s 127us/step - loss: 2.6063 - accuracy: 0.5142 - val_loss: 1.8047 - val_accuracy: 0.6240\n",
      "Epoch 2/6\n",
      "7982/7982 [==============================] - 1s 110us/step - loss: 1.4646 - accuracy: 0.6896 - val_loss: 1.3460 - val_accuracy: 0.7080\n",
      "Epoch 3/6\n",
      "7982/7982 [==============================] - 1s 110us/step - loss: 1.1103 - accuracy: 0.7648 - val_loss: 1.1794 - val_accuracy: 0.7520\n",
      "Epoch 4/6\n",
      "7982/7982 [==============================] - 1s 112us/step - loss: 0.8972 - accuracy: 0.8133 - val_loss: 1.0946 - val_accuracy: 0.7640\n",
      "Epoch 5/6\n",
      "7982/7982 [==============================] - 1s 108us/step - loss: 0.7418 - accuracy: 0.8459 - val_loss: 1.0388 - val_accuracy: 0.7870\n",
      "Epoch 6/6\n",
      "7982/7982 [==============================] - 1s 112us/step - loss: 0.6140 - accuracy: 0.8681 - val_loss: 0.9865 - val_accuracy: 0.7930\n",
      "2246/2246 [==============================] - 0s 77us/step\n",
      "[1.056130949981703, 0.7644701600074768]\n"
     ]
    }
   ],
   "source": [
    "# use epoch = 9, and evaluate\n",
    "# accuracy ~76.4% \n",
    "network4 = models.Sequential()\n",
    "network4.add(layers.Dense(32, activation = 'relu', input_shape = (10000,)))\n",
    "network4.add(layers.Dense(32, activation = 'relu'))\n",
    "network4.add(layers.Dense(46, activation='softmax'))\n",
    "\n",
    "network4.compile(\n",
    "    optimizer = 'rmsprop',\n",
    "    loss='categorical_crossentropy',\n",
    "    metrics=['accuracy']\n",
    ")\n",
    "\n",
    "network4.fit(\n",
    "    partial_x_train, \n",
    "    partial_y_train, \n",
    "    epochs=6, \n",
    "    batch_size=256, \n",
    "    validation_data=(x_val, y_val)\n",
    ")\n",
    "res = network4.evaluate(x_test, one_hot_test_labels)\n",
    "print(res)"
   ]
  },
  {
   "cell_type": "markdown",
   "metadata": {
    "colab_type": "text",
    "id": "LPnw6UHzuGNh"
   },
   "source": [
    "<font color = blue>\n",
    "\n",
    "> 128 units </font>\n"
   ]
  },
  {
   "cell_type": "code",
   "execution_count": null,
   "metadata": {
    "colab": {
     "base_uri": "https://localhost:8080/",
     "height": 746
    },
    "colab_type": "code",
    "id": "ZhBwf0blUqiT",
    "outputId": "9719cc91-6158-4dd2-c0ad-798ed0930f6c"
   },
   "outputs": [
    {
     "name": "stdout",
     "output_type": "stream",
     "text": [
      "Train on 7982 samples, validate on 1000 samples\n",
      "Epoch 1/20\n",
      "7982/7982 [==============================] - 2s 225us/step - loss: 1.7534 - accuracy: 0.6233 - val_loss: 1.2484 - val_accuracy: 0.7050\n",
      "Epoch 2/20\n",
      "7982/7982 [==============================] - 2s 202us/step - loss: 0.8871 - accuracy: 0.8078 - val_loss: 1.1211 - val_accuracy: 0.7420\n",
      "Epoch 3/20\n",
      "7982/7982 [==============================] - 2s 203us/step - loss: 0.5706 - accuracy: 0.8765 - val_loss: 0.9077 - val_accuracy: 0.8010\n",
      "Epoch 4/20\n",
      "7982/7982 [==============================] - 2s 205us/step - loss: 0.3835 - accuracy: 0.9198 - val_loss: 0.8405 - val_accuracy: 0.8250\n",
      "Epoch 5/20\n",
      "7982/7982 [==============================] - 2s 206us/step - loss: 0.2790 - accuracy: 0.9366 - val_loss: 0.9298 - val_accuracy: 0.8030\n",
      "Epoch 6/20\n",
      "7982/7982 [==============================] - 2s 208us/step - loss: 0.2175 - accuracy: 0.9460 - val_loss: 0.9475 - val_accuracy: 0.8070\n",
      "Epoch 7/20\n",
      "7982/7982 [==============================] - 2s 205us/step - loss: 0.1857 - accuracy: 0.9500 - val_loss: 0.9665 - val_accuracy: 0.8170\n",
      "Epoch 8/20\n",
      "7982/7982 [==============================] - 2s 206us/step - loss: 0.1663 - accuracy: 0.9510 - val_loss: 1.0349 - val_accuracy: 0.8000\n",
      "Epoch 9/20\n",
      "7982/7982 [==============================] - 2s 207us/step - loss: 0.1480 - accuracy: 0.9554 - val_loss: 0.9977 - val_accuracy: 0.8020\n",
      "Epoch 10/20\n",
      "7982/7982 [==============================] - 2s 204us/step - loss: 0.1434 - accuracy: 0.9536 - val_loss: 1.0443 - val_accuracy: 0.8070\n",
      "Epoch 11/20\n",
      "7982/7982 [==============================] - 2s 205us/step - loss: 0.1322 - accuracy: 0.9564 - val_loss: 0.9958 - val_accuracy: 0.8150\n",
      "Epoch 12/20\n",
      "7982/7982 [==============================] - 2s 205us/step - loss: 0.1245 - accuracy: 0.9563 - val_loss: 1.1180 - val_accuracy: 0.8040\n",
      "Epoch 13/20\n",
      "7982/7982 [==============================] - 2s 206us/step - loss: 0.1182 - accuracy: 0.9569 - val_loss: 1.1122 - val_accuracy: 0.7980\n",
      "Epoch 14/20\n",
      "7982/7982 [==============================] - 2s 207us/step - loss: 0.1219 - accuracy: 0.9540 - val_loss: 1.1392 - val_accuracy: 0.7990\n",
      "Epoch 15/20\n",
      "7982/7982 [==============================] - 2s 206us/step - loss: 0.1075 - accuracy: 0.9593 - val_loss: 1.0931 - val_accuracy: 0.8100\n",
      "Epoch 16/20\n",
      "7982/7982 [==============================] - 2s 209us/step - loss: 0.1110 - accuracy: 0.9573 - val_loss: 1.1049 - val_accuracy: 0.8050\n",
      "Epoch 17/20\n",
      "7982/7982 [==============================] - 2s 204us/step - loss: 0.1056 - accuracy: 0.9572 - val_loss: 1.2771 - val_accuracy: 0.7860\n",
      "Epoch 18/20\n",
      "7982/7982 [==============================] - 2s 207us/step - loss: 0.0996 - accuracy: 0.9584 - val_loss: 1.1203 - val_accuracy: 0.8010\n",
      "Epoch 19/20\n",
      "7982/7982 [==============================] - 2s 204us/step - loss: 0.0988 - accuracy: 0.9582 - val_loss: 1.2193 - val_accuracy: 0.7920\n",
      "Epoch 20/20\n",
      "7982/7982 [==============================] - 2s 205us/step - loss: 0.0983 - accuracy: 0.9568 - val_loss: 1.2515 - val_accuracy: 0.7950\n"
     ]
    }
   ],
   "source": [
    "# 128 units hidden layer\n",
    "network5 = models.Sequential()\n",
    "network5.add(layers.Dense(128, activation = 'relu', input_shape = (10000,)))\n",
    "network5.add(layers.Dense(128, activation = 'relu'))\n",
    "network5.add(layers.Dense(46, activation='softmax'))\n",
    "\n",
    "network5.compile(\n",
    "    optimizer = 'rmsprop',\n",
    "    loss='categorical_crossentropy',\n",
    "    metrics=['accuracy']\n",
    ")\n",
    "\n",
    "his = network5.fit(\n",
    "    partial_x_train, \n",
    "    partial_y_train, \n",
    "    epochs=20, \n",
    "    batch_size=256, \n",
    "    validation_data=(x_val, y_val)\n",
    ")\n",
    "\n"
   ]
  },
  {
   "cell_type": "code",
   "execution_count": null,
   "metadata": {
    "colab": {
     "base_uri": "https://localhost:8080/",
     "height": 295
    },
    "colab_type": "code",
    "id": "3B_6FZzIutgv",
    "outputId": "b5568dc7-374e-458b-cd5f-6fc0bc628eab"
   },
   "outputs": [
    {
     "data": {
      "image/png": "[encoded data removed]",
      "text/plain": [
       "<Figure size 432x288 with 1 Axes>"
      ]
     },
     "metadata": {
      "needs_background": "light",
      "tags": []
     },
     "output_type": "display_data"
    }
   ],
   "source": [
    "plotLoss(his)"
   ]
  },
  {
   "cell_type": "code",
   "execution_count": null,
   "metadata": {
    "colab": {
     "base_uri": "https://localhost:8080/",
     "height": 295
    },
    "colab_type": "code",
    "id": "HU25W6L8uyFY",
    "outputId": "5c0978ca-cc4a-4b6a-c273-0a3d2ddaffca"
   },
   "outputs": [
    {
     "data": {
      "image/png": "[encoded data removed]",
      "text/plain": [
       "<Figure size 432x288 with 1 Axes>"
      ]
     },
     "metadata": {
      "needs_background": "light",
      "tags": []
     },
     "output_type": "display_data"
    }
   ],
   "source": [
    "plotAccuracy(his)"
   ]
  },
  {
   "cell_type": "code",
   "execution_count": null,
   "metadata": {
    "colab": {
     "base_uri": "https://localhost:8080/",
     "height": 212
    },
    "colab_type": "code",
    "id": "jfp59Co-XWx2",
    "outputId": "864735ee-9a67-4609-f7ca-c09ea840bf38"
   },
   "outputs": [
    {
     "name": "stdout",
     "output_type": "stream",
     "text": [
      "Train on 7982 samples, validate on 1000 samples\n",
      "Epoch 1/4\n",
      "7982/7982 [==============================] - 2s 230us/step - loss: 1.8452 - accuracy: 0.6243 - val_loss: 1.2415 - val_accuracy: 0.7110\n",
      "Epoch 2/4\n",
      "7982/7982 [==============================] - 2s 211us/step - loss: 0.9201 - accuracy: 0.8016 - val_loss: 1.0071 - val_accuracy: 0.7850\n",
      "Epoch 3/4\n",
      "7982/7982 [==============================] - 2s 207us/step - loss: 0.6006 - accuracy: 0.8717 - val_loss: 0.9047 - val_accuracy: 0.8130\n",
      "Epoch 4/4\n",
      "7982/7982 [==============================] - 2s 207us/step - loss: 0.4039 - accuracy: 0.9164 - val_loss: 0.8908 - val_accuracy: 0.8090\n",
      "2246/2246 [==============================] - 0s 126us/step\n",
      "[0.9833490224364392, 0.7894033789634705]\n"
     ]
    }
   ],
   "source": [
    "# Use epoch = 4 and evaluate\n",
    "# final accuracy ~78.9%\n",
    "network5 = models.Sequential()\n",
    "network5.add(layers.Dense(128, activation = 'relu', input_shape = (10000,)))\n",
    "network5.add(layers.Dense(128, activation = 'relu'))\n",
    "network5.add(layers.Dense(46, activation='softmax'))\n",
    "\n",
    "network5.compile(\n",
    "    optimizer = 'rmsprop',\n",
    "    loss='categorical_crossentropy',\n",
    "    metrics=['accuracy']\n",
    ")\n",
    "\n",
    "network5.fit(\n",
    "    partial_x_train, \n",
    "    partial_y_train, \n",
    "    epochs=4, \n",
    "    batch_size=256, \n",
    "    validation_data=(x_val, y_val)\n",
    ")\n",
    "\n",
    "\n",
    "score = network5.evaluate(x_test, one_hot_test_labels)\n",
    "print(score)"
   ]
  },
  {
   "cell_type": "markdown",
   "metadata": {
    "colab_type": "text",
    "id": "qJ1JPiTErD7X"
   },
   "source": [
    "\n",
    "## We were using two hidden layers. Now try to use a single hidden layer, or three hidden layers, and see if you will be able to improve the model performance on the test data.\n",
    "\n"
   ]
  },
  {
   "cell_type": "markdown",
   "metadata": {
    "colab_type": "text",
    "id": "Lv7Yv0pmvHiq"
   },
   "source": [
    "<font color = blue>\n",
    "\n",
    "> Single layer </font>\n"
   ]
  },
  {
   "cell_type": "code",
   "execution_count": null,
   "metadata": {
    "colab": {
     "base_uri": "https://localhost:8080/",
     "height": 746
    },
    "colab_type": "code",
    "id": "6zukIClyrh3k",
    "outputId": "a4b05327-c650-4725-a157-968fa484fd28"
   },
   "outputs": [
    {
     "name": "stdout",
     "output_type": "stream",
     "text": [
      "Train on 7982 samples, validate on 1000 samples\n",
      "Epoch 1/20\n",
      "7982/7982 [==============================] - 1s 164us/step - loss: 2.1379 - accuracy: 0.6179 - val_loss: 1.4339 - val_accuracy: 0.7040\n",
      "Epoch 2/20\n",
      "7982/7982 [==============================] - 1s 141us/step - loss: 1.1424 - accuracy: 0.7635 - val_loss: 1.1048 - val_accuracy: 0.7630\n",
      "Epoch 3/20\n",
      "7982/7982 [==============================] - 1s 140us/step - loss: 0.8149 - accuracy: 0.8359 - val_loss: 0.9618 - val_accuracy: 0.8040\n",
      "Epoch 4/20\n",
      "7982/7982 [==============================] - 1s 142us/step - loss: 0.6134 - accuracy: 0.8779 - val_loss: 0.8816 - val_accuracy: 0.8270\n",
      "Epoch 5/20\n",
      "7982/7982 [==============================] - 1s 141us/step - loss: 0.4715 - accuracy: 0.9037 - val_loss: 0.8390 - val_accuracy: 0.8250\n",
      "Epoch 6/20\n",
      "7982/7982 [==============================] - 1s 141us/step - loss: 0.3688 - accuracy: 0.9233 - val_loss: 0.8401 - val_accuracy: 0.8190\n",
      "Epoch 7/20\n",
      "7982/7982 [==============================] - 1s 140us/step - loss: 0.2956 - accuracy: 0.9339 - val_loss: 0.8081 - val_accuracy: 0.8310\n",
      "Epoch 8/20\n",
      "7982/7982 [==============================] - 1s 141us/step - loss: 0.2449 - accuracy: 0.9425 - val_loss: 0.8077 - val_accuracy: 0.8240\n",
      "Epoch 9/20\n",
      "7982/7982 [==============================] - 1s 141us/step - loss: 0.2056 - accuracy: 0.9483 - val_loss: 0.8322 - val_accuracy: 0.8270\n",
      "Epoch 10/20\n",
      "7982/7982 [==============================] - 1s 142us/step - loss: 0.1781 - accuracy: 0.9525 - val_loss: 0.8538 - val_accuracy: 0.8250\n",
      "Epoch 11/20\n",
      "7982/7982 [==============================] - 1s 141us/step - loss: 0.1590 - accuracy: 0.9529 - val_loss: 0.8746 - val_accuracy: 0.8170\n",
      "Epoch 12/20\n",
      "7982/7982 [==============================] - 1s 142us/step - loss: 0.1452 - accuracy: 0.9538 - val_loss: 0.8799 - val_accuracy: 0.8180\n",
      "Epoch 13/20\n",
      "7982/7982 [==============================] - 1s 142us/step - loss: 0.1323 - accuracy: 0.9543 - val_loss: 0.9067 - val_accuracy: 0.8210\n",
      "Epoch 14/20\n",
      "7982/7982 [==============================] - 1s 142us/step - loss: 0.1222 - accuracy: 0.9562 - val_loss: 0.9187 - val_accuracy: 0.8190\n",
      "Epoch 15/20\n",
      "7982/7982 [==============================] - 1s 141us/step - loss: 0.1190 - accuracy: 0.9559 - val_loss: 0.9618 - val_accuracy: 0.8040\n",
      "Epoch 16/20\n",
      "7982/7982 [==============================] - 1s 141us/step - loss: 0.1147 - accuracy: 0.9565 - val_loss: 0.9811 - val_accuracy: 0.8150\n",
      "Epoch 17/20\n",
      "7982/7982 [==============================] - 1s 144us/step - loss: 0.1098 - accuracy: 0.9560 - val_loss: 1.0000 - val_accuracy: 0.8130\n",
      "Epoch 18/20\n",
      "7982/7982 [==============================] - 1s 142us/step - loss: 0.1059 - accuracy: 0.9577 - val_loss: 1.0238 - val_accuracy: 0.8060\n",
      "Epoch 19/20\n",
      "7982/7982 [==============================] - 1s 140us/step - loss: 0.1006 - accuracy: 0.9585 - val_loss: 0.9955 - val_accuracy: 0.8100\n",
      "Epoch 20/20\n",
      "7982/7982 [==============================] - 1s 140us/step - loss: 0.1025 - accuracy: 0.9572 - val_loss: 1.0473 - val_accuracy: 0.8100\n"
     ]
    }
   ],
   "source": [
    "# TODO: Try to use a single hidden layer, or three hidden layers\n",
    "network6 = models.Sequential()\n",
    "# single layer\n",
    "network6.add(layers.Dense(64, activation = 'relu', input_shape = (10000,)))\n",
    "network6.add(layers.Dense(46, activation='softmax'))\n",
    "\n",
    "network6.compile(\n",
    "    optimizer = 'rmsprop',\n",
    "    loss='categorical_crossentropy',\n",
    "    metrics=['accuracy']\n",
    ")\n",
    "\n",
    "his = network6.fit(\n",
    "    partial_x_train, \n",
    "    partial_y_train, \n",
    "    epochs=20, \n",
    "    batch_size=256, \n",
    "    validation_data=(x_val, y_val)\n",
    ")\n"
   ]
  },
  {
   "cell_type": "code",
   "execution_count": null,
   "metadata": {
    "colab": {
     "base_uri": "https://localhost:8080/",
     "height": 295
    },
    "colab_type": "code",
    "id": "LYeqBbg7vbhH",
    "outputId": "49bc811b-d33f-4e50-b4ef-97e67976af1e"
   },
   "outputs": [
    {
     "data": {
      "image/png": "[encoded data removed]",
      "text/plain": [
       "<Figure size 432x288 with 1 Axes>"
      ]
     },
     "metadata": {
      "needs_background": "light",
      "tags": []
     },
     "output_type": "display_data"
    }
   ],
   "source": [
    "plotLoss(his)"
   ]
  },
  {
   "cell_type": "code",
   "execution_count": null,
   "metadata": {
    "colab": {
     "base_uri": "https://localhost:8080/",
     "height": 295
    },
    "colab_type": "code",
    "id": "hJP_bZ4Hvdj4",
    "outputId": "3544e38b-8fc8-4b3f-a799-0567d4b9fced"
   },
   "outputs": [
    {
     "data": {
      "image/png": "[encoded data removed]",
      "text/plain": [
       "<Figure size 432x288 with 1 Axes>"
      ]
     },
     "metadata": {
      "needs_background": "light",
      "tags": []
     },
     "output_type": "display_data"
    }
   ],
   "source": [
    "plotAccuracy(his)"
   ]
  },
  {
   "cell_type": "code",
   "execution_count": null,
   "metadata": {
    "colab": {
     "base_uri": "https://localhost:8080/",
     "height": 284
    },
    "colab_type": "code",
    "id": "qJH1HwpzYf0d",
    "outputId": "1cdc2f2a-f972-493f-ce0f-1328b09e6aa2"
   },
   "outputs": [
    {
     "name": "stdout",
     "output_type": "stream",
     "text": [
      "Train on 7982 samples, validate on 1000 samples\n",
      "Epoch 1/6\n",
      "7982/7982 [==============================] - 1s 171us/step - loss: 2.2938 - accuracy: 0.6150 - val_loss: 1.5162 - val_accuracy: 0.6900\n",
      "Epoch 2/6\n",
      "7982/7982 [==============================] - 1s 139us/step - loss: 1.1842 - accuracy: 0.7620 - val_loss: 1.1283 - val_accuracy: 0.7640\n",
      "Epoch 3/6\n",
      "7982/7982 [==============================] - 1s 138us/step - loss: 0.8322 - accuracy: 0.8292 - val_loss: 0.9755 - val_accuracy: 0.8030\n",
      "Epoch 4/6\n",
      "7982/7982 [==============================] - 1s 138us/step - loss: 0.6226 - accuracy: 0.8772 - val_loss: 0.8925 - val_accuracy: 0.8140\n",
      "Epoch 5/6\n",
      "7982/7982 [==============================] - 1s 140us/step - loss: 0.4805 - accuracy: 0.9045 - val_loss: 0.8495 - val_accuracy: 0.8240\n",
      "Epoch 6/6\n",
      "7982/7982 [==============================] - 1s 139us/step - loss: 0.3786 - accuracy: 0.9245 - val_loss: 0.8147 - val_accuracy: 0.8380\n",
      "2246/2246 [==============================] - 0s 100us/step\n",
      "[0.8877660094470927, 0.8036509156227112]\n"
     ]
    }
   ],
   "source": [
    "# Use epoch = 6 and evaluate: accuracy = 80.4% highest so far\n",
    "network6 = models.Sequential()\n",
    "# single layer\n",
    "network6.add(layers.Dense(64, activation = 'relu', input_shape = (10000,)))\n",
    "network6.add(layers.Dense(46, activation='softmax'))\n",
    "\n",
    "network6.compile(\n",
    "    optimizer = 'rmsprop',\n",
    "    loss='categorical_crossentropy',\n",
    "    metrics=['accuracy']\n",
    ")\n",
    "\n",
    "# epoch = 4: 78%, 5: 79% , 6: 80% so Epoch = 6 is best\n",
    "network6.fit(\n",
    "    partial_x_train, \n",
    "    partial_y_train, \n",
    "    epochs=6, \n",
    "    batch_size=256, \n",
    "    validation_data=(x_val, y_val)\n",
    ")\n",
    "\n",
    "score = network6.evaluate(x_test, one_hot_test_labels)\n",
    "print(score)"
   ]
  },
  {
   "cell_type": "markdown",
   "metadata": {
    "colab_type": "text",
    "id": "YUEcu35_wZ3o"
   },
   "source": [
    "<font color = blue>\n",
    "\n",
    "> Three hidden layers </font>\n"
   ]
  },
  {
   "cell_type": "code",
   "execution_count": null,
   "metadata": {
    "colab": {
     "base_uri": "https://localhost:8080/",
     "height": 426
    },
    "colab_type": "code",
    "id": "h0GIuTuWYby9",
    "outputId": "8e4aa46e-1f12-439f-f938-36c3657992c2"
   },
   "outputs": [
    {
     "name": "stdout",
     "output_type": "stream",
     "text": [
      "Train on 7982 samples, validate on 1000 samples\n",
      "Epoch 1/10\n",
      "7982/7982 [==============================] - 1s 175us/step - loss: 2.2176 - accuracy: 0.5274 - val_loss: 1.4714 - val_accuracy: 0.6580\n",
      "Epoch 2/10\n",
      "7982/7982 [==============================] - 1s 141us/step - loss: 1.2296 - accuracy: 0.7223 - val_loss: 1.2082 - val_accuracy: 0.7270\n",
      "Epoch 3/10\n",
      "7982/7982 [==============================] - 1s 141us/step - loss: 0.8950 - accuracy: 0.8011 - val_loss: 1.0820 - val_accuracy: 0.7600\n",
      "Epoch 4/10\n",
      "7982/7982 [==============================] - 1s 139us/step - loss: 0.6557 - accuracy: 0.8532 - val_loss: 0.9923 - val_accuracy: 0.7890\n",
      "Epoch 5/10\n",
      "7982/7982 [==============================] - 1s 143us/step - loss: 0.4853 - accuracy: 0.8923 - val_loss: 1.0061 - val_accuracy: 0.7890\n",
      "Epoch 6/10\n",
      "7982/7982 [==============================] - 1s 142us/step - loss: 0.3627 - accuracy: 0.9202 - val_loss: 0.9754 - val_accuracy: 0.8020\n",
      "Epoch 7/10\n",
      "7982/7982 [==============================] - 1s 142us/step - loss: 0.2818 - accuracy: 0.9362 - val_loss: 1.0467 - val_accuracy: 0.7930\n",
      "Epoch 8/10\n",
      "7982/7982 [==============================] - 1s 139us/step - loss: 0.2357 - accuracy: 0.9471 - val_loss: 1.0556 - val_accuracy: 0.8090\n",
      "Epoch 9/10\n",
      "7982/7982 [==============================] - 1s 142us/step - loss: 0.2006 - accuracy: 0.9498 - val_loss: 1.2497 - val_accuracy: 0.7630\n",
      "Epoch 10/10\n",
      "7982/7982 [==============================] - 1s 141us/step - loss: 0.1735 - accuracy: 0.9529 - val_loss: 1.3395 - val_accuracy: 0.7560\n",
      "2246/2246 [==============================] - 0s 105us/step\n",
      "[1.4283966030908926, 0.7382012605667114]\n"
     ]
    }
   ],
   "source": [
    "network7 = models.Sequential()\n",
    "# Three hidden layer\n",
    "network7.add(layers.Dense(64, activation = 'relu', input_shape = (10000,)))\n",
    "network7.add(layers.Dense(64, activation='relu'))\n",
    "network7.add(layers.Dense(64, activation='relu'))\n",
    "network7.add(layers.Dense(46, activation='softmax'))\n",
    "\n",
    "network7.compile(\n",
    "    optimizer = 'rmsprop',\n",
    "    loss='categorical_crossentropy',\n",
    "    metrics=['accuracy']\n",
    ")\n",
    "\n",
    "his = network7.fit(\n",
    "    partial_x_train, \n",
    "    partial_y_train, \n",
    "    epochs=20, \n",
    "    batch_size=256, \n",
    "    validation_data=(x_val, y_val)\n",
    ")\n"
   ]
  },
  {
   "cell_type": "code",
   "execution_count": null,
   "metadata": {
    "colab": {
     "base_uri": "https://localhost:8080/",
     "height": 295
    },
    "colab_type": "code",
    "id": "PIWOj_PHws43",
    "outputId": "55112437-1e92-4897-84eb-2073eda29d2f"
   },
   "outputs": [
    {
     "data": {
      "image/png": "[encoded data removed]",
      "text/plain": [
       "<Figure size 432x288 with 1 Axes>"
      ]
     },
     "metadata": {
      "needs_background": "light",
      "tags": []
     },
     "output_type": "display_data"
    }
   ],
   "source": [
    "plotLoss(his)"
   ]
  },
  {
   "cell_type": "code",
   "execution_count": null,
   "metadata": {
    "colab": {
     "base_uri": "https://localhost:8080/",
     "height": 295
    },
    "colab_type": "code",
    "id": "mxEhtaXJww_r",
    "outputId": "fa4f1629-07af-466d-c3bb-dd618694852f"
   },
   "outputs": [
    {
     "data": {
      "image/png": "[encoded data removed]",
      "text/plain": [
       "<Figure size 432x288 with 1 Axes>"
      ]
     },
     "metadata": {
      "needs_background": "light",
      "tags": []
     },
     "output_type": "display_data"
    }
   ],
   "source": [
    "plotAccuracy(his)"
   ]
  },
  {
   "cell_type": "code",
   "execution_count": null,
   "metadata": {
    "colab": {
     "base_uri": "https://localhost:8080/",
     "height": 248
    },
    "colab_type": "code",
    "id": "VG2bJ45uwwQc",
    "outputId": "c0d4eda6-365f-4334-c4f9-62dab27766e1"
   },
   "outputs": [
    {
     "name": "stdout",
     "output_type": "stream",
     "text": [
      "Train on 7982 samples, validate on 1000 samples\n",
      "Epoch 1/5\n",
      "7982/7982 [==============================] - 1s 184us/step - loss: 2.1231 - accuracy: 0.5639 - val_loss: 1.4108 - val_accuracy: 0.6720\n",
      "Epoch 2/5\n",
      "7982/7982 [==============================] - 1s 142us/step - loss: 1.1763 - accuracy: 0.7379 - val_loss: 1.1544 - val_accuracy: 0.7390\n",
      "Epoch 3/5\n",
      "7982/7982 [==============================] - 1s 142us/step - loss: 0.8531 - accuracy: 0.8121 - val_loss: 1.1199 - val_accuracy: 0.7590\n",
      "Epoch 4/5\n",
      "7982/7982 [==============================] - 1s 141us/step - loss: 0.6306 - accuracy: 0.8648 - val_loss: 1.0939 - val_accuracy: 0.7580\n",
      "Epoch 5/5\n",
      "7982/7982 [==============================] - 1s 140us/step - loss: 0.4703 - accuracy: 0.8985 - val_loss: 1.0529 - val_accuracy: 0.7840\n",
      "2246/2246 [==============================] - 0s 100us/step\n",
      "[1.1136138090998173, 0.7524487972259521]\n"
     ]
    }
   ],
   "source": [
    "# Use epoch = 5 and evaluate: accuracy is 76.3%, lower than before\n",
    "network7 = models.Sequential()\n",
    "# Three hidden layer\n",
    "network7.add(layers.Dense(64, activation = 'relu', input_shape = (10000,)))\n",
    "network7.add(layers.Dense(64, activation='relu'))\n",
    "network7.add(layers.Dense(64, activation='relu'))\n",
    "network7.add(layers.Dense(46, activation='softmax'))\n",
    "\n",
    "network7.compile(\n",
    "    optimizer = 'rmsprop',\n",
    "    loss='categorical_crossentropy',\n",
    "    metrics=['accuracy']\n",
    ")\n",
    "# epoch = 4: 75.5%, 5: 76.3%, 6: 74.5%\n",
    "network7.fit(\n",
    "    partial_x_train, \n",
    "    partial_y_train, \n",
    "    epochs=5, \n",
    "    batch_size=256, \n",
    "    validation_data=(x_val, y_val)\n",
    ")\n",
    "\n",
    "# evaluate\n",
    "score = network7.evaluate(x_test, one_hot_test_labels)\n",
    "print(score)"
   ]
  },
  {
   "cell_type": "markdown",
   "metadata": {
    "colab_type": "text",
    "id": "gldwCoKB3oiI"
   },
   "source": [
    "## Wrapping up\n",
    "\n",
    "\n",
    "Few takeaways from this example:\n",
    "\n",
    "* If you are trying to classify data points between N classes, your network should end with a `Dense` layer of size N.\n",
    "* In a single-label, multi-class classification problem, your network should end with a `softmax` activation, so that it will output a \n",
    "probability distribution over the N output classes.\n",
    "* _Categorical crossentropy_ is almost always the loss function you should use for such problems. It minimizes the distance between the \n",
    "probability distributions output by the network, and the true distribution of the targets.\n",
    "* There are two ways to handle labels in multi-class classification:\n",
    "    ** Encoding the labels via \"categorical encoding\" (also known as \"one-hot encoding\") and using `categorical_crossentropy` as your loss \n",
    "function.\n",
    "    ** Encoding the labels as integers and using the `sparse_categorical_crossentropy` loss function.\n",
    "* If you need to classify data into a large number of categories, then you should avoid creating information bottlenecks in your network by having \n",
    "intermediate layers that are too small."
   ]
  },
  {
   "cell_type": "markdown",
   "metadata": {
    "colab_type": "text",
    "id": "aKekl-HuGXiU"
   },
   "source": [
    "## Addtional thoughts on performance improvement\n",
    "Thinking of other methods to further improve the model performance"
   ]
  },
  {
   "cell_type": "markdown",
   "metadata": {
    "colab_type": "text",
    "id": "hZZ5xZO01VaR"
   },
   "source": [
    "<font color = blue>\n",
    "\n",
    "> So far\n",
    " the model with **single layer** (epoch = 6) gives the best performance in accuracy: 80.4%, the reason why single layer is better than two/three layers might be that the sample dataset is still not big enough.\n",
    "</font>\n",
    "\n",
    "<font color = blue>\n",
    "\n",
    "> To further improve, we can try: 1. change learning rate 2. try 'Adam' optimizer, and 3. add 'dropout'\n",
    "</font>"
   ]
  },
  {
   "cell_type": "code",
   "execution_count": null,
   "metadata": {
    "colab": {
     "base_uri": "https://localhost:8080/",
     "height": 781
    },
    "colab_type": "code",
    "id": "xNqJTYwl4LtD",
    "outputId": "51e5852f-625d-491a-e15b-44228f8d67c0"
   },
   "outputs": [
    {
     "name": "stdout",
     "output_type": "stream",
     "text": [
      "Train on 7982 samples, validate on 1000 samples\n",
      "Epoch 1/20\n",
      "7982/7982 [==============================] - 1s 185us/step - loss: 1.3724 - accuracy: 0.6884 - val_loss: 0.9467 - val_accuracy: 0.7800\n",
      "Epoch 2/20\n",
      "7982/7982 [==============================] - 1s 141us/step - loss: 0.4625 - accuracy: 0.8898 - val_loss: 0.8720 - val_accuracy: 0.8200\n",
      "Epoch 3/20\n",
      "7982/7982 [==============================] - 1s 145us/step - loss: 0.2498 - accuracy: 0.9385 - val_loss: 1.0159 - val_accuracy: 0.8030\n",
      "Epoch 4/20\n",
      "7982/7982 [==============================] - 1s 139us/step - loss: 0.1997 - accuracy: 0.9481 - val_loss: 1.0241 - val_accuracy: 0.7980\n",
      "Epoch 5/20\n",
      "7982/7982 [==============================] - 1s 139us/step - loss: 0.1619 - accuracy: 0.9544 - val_loss: 1.2171 - val_accuracy: 0.8010\n",
      "Epoch 6/20\n",
      "7982/7982 [==============================] - 1s 141us/step - loss: 0.1449 - accuracy: 0.9536 - val_loss: 1.2447 - val_accuracy: 0.8100\n",
      "Epoch 7/20\n",
      "7982/7982 [==============================] - 1s 143us/step - loss: 0.1362 - accuracy: 0.9531 - val_loss: 1.5164 - val_accuracy: 0.7850\n",
      "Epoch 8/20\n",
      "7982/7982 [==============================] - 1s 140us/step - loss: 0.1239 - accuracy: 0.9548 - val_loss: 1.5240 - val_accuracy: 0.7980\n",
      "Epoch 9/20\n",
      "7982/7982 [==============================] - 1s 141us/step - loss: 0.1097 - accuracy: 0.9549 - val_loss: 1.7851 - val_accuracy: 0.7830\n",
      "Epoch 10/20\n",
      "7982/7982 [==============================] - 1s 141us/step - loss: 0.1071 - accuracy: 0.9555 - val_loss: 1.9305 - val_accuracy: 0.7960\n",
      "Epoch 11/20\n",
      "7982/7982 [==============================] - 1s 142us/step - loss: 0.1051 - accuracy: 0.9578 - val_loss: 1.9718 - val_accuracy: 0.7910\n",
      "Epoch 12/20\n",
      "7982/7982 [==============================] - 1s 143us/step - loss: 0.0954 - accuracy: 0.9573 - val_loss: 2.3208 - val_accuracy: 0.7880\n",
      "Epoch 13/20\n",
      "7982/7982 [==============================] - 1s 142us/step - loss: 0.0966 - accuracy: 0.9574 - val_loss: 2.4480 - val_accuracy: 0.7790\n",
      "Epoch 14/20\n",
      "7982/7982 [==============================] - 1s 141us/step - loss: 0.0919 - accuracy: 0.9578 - val_loss: 2.5459 - val_accuracy: 0.7760\n",
      "Epoch 15/20\n",
      "7982/7982 [==============================] - 1s 140us/step - loss: 0.0871 - accuracy: 0.9568 - val_loss: 2.6318 - val_accuracy: 0.7820\n",
      "Epoch 16/20\n",
      "7982/7982 [==============================] - 1s 141us/step - loss: 0.0857 - accuracy: 0.9602 - val_loss: 2.7368 - val_accuracy: 0.7740\n",
      "Epoch 17/20\n",
      "7982/7982 [==============================] - 1s 141us/step - loss: 0.0803 - accuracy: 0.9590 - val_loss: 3.2191 - val_accuracy: 0.7760\n",
      "Epoch 18/20\n",
      "7982/7982 [==============================] - 1s 141us/step - loss: 0.0832 - accuracy: 0.9593 - val_loss: 3.5857 - val_accuracy: 0.7690\n",
      "Epoch 19/20\n",
      "7982/7982 [==============================] - 1s 141us/step - loss: 0.0820 - accuracy: 0.9589 - val_loss: 3.4835 - val_accuracy: 0.7780\n",
      "Epoch 20/20\n",
      "7982/7982 [==============================] - 1s 140us/step - loss: 0.0787 - accuracy: 0.9595 - val_loss: 3.6511 - val_accuracy: 0.7620\n",
      "2246/2246 [==============================] - 0s 104us/step\n",
      "[3.8967516407410376, 0.7617987394332886]\n"
     ]
    }
   ],
   "source": [
    "# Option 1: Try changing learning rate \n",
    "from keras import optimizers\n",
    "\n",
    "# evaluate under 0.01 learning rate\n",
    "network8 = models.Sequential()\n",
    "# single layer\n",
    "network8.add(layers.Dense(64, activation = 'relu', input_shape = (10000,)))\n",
    "network8.add(layers.Dense(46, activation='softmax'))\n",
    "\n",
    "# if learning rate is 0.01, the model converge faster\n",
    "optimizer = optimizers.rmsprop(0.01)\n",
    "\n",
    "network8.compile(\n",
    "    optimizer = optimizer,\n",
    "    loss='categorical_crossentropy',\n",
    "    metrics=['accuracy']\n",
    ")\n",
    "\n",
    "his = network8.fit(\n",
    "    partial_x_train, \n",
    "    partial_y_train, \n",
    "    epochs=20, \n",
    "    batch_size=256, \n",
    "    validation_data=(x_val, y_val)\n",
    ")\n"
   ]
  },
  {
   "cell_type": "code",
   "execution_count": null,
   "metadata": {
    "colab": {
     "base_uri": "https://localhost:8080/",
     "height": 295
    },
    "colab_type": "code",
    "id": "XJLQj6njyT1i",
    "outputId": "3b820159-1517-4080-b299-c40af63d9609"
   },
   "outputs": [
    {
     "data": {
      "image/png": "[encoded data removed]",
      "text/plain": [
       "<Figure size 432x288 with 1 Axes>"
      ]
     },
     "metadata": {
      "needs_background": "light",
      "tags": []
     },
     "output_type": "display_data"
    }
   ],
   "source": [
    "plotLoss(his)"
   ]
  },
  {
   "cell_type": "code",
   "execution_count": null,
   "metadata": {
    "colab": {
     "base_uri": "https://localhost:8080/",
     "height": 295
    },
    "colab_type": "code",
    "id": "b6mUTah8yVqt",
    "outputId": "06c18045-4e18-4a76-ca3f-46dcd4533ff3"
   },
   "outputs": [
    {
     "data": {
      "image/png": "[encoded data removed]",
      "text/plain": [
       "<Figure size 432x288 with 1 Axes>"
      ]
     },
     "metadata": {
      "needs_background": "light",
      "tags": []
     },
     "output_type": "display_data"
    }
   ],
   "source": [
    "plotAccuracy(his)"
   ]
  },
  {
   "cell_type": "code",
   "execution_count": null,
   "metadata": {
    "colab": {
     "base_uri": "https://localhost:8080/",
     "height": 212
    },
    "colab_type": "code",
    "id": "M6po3BQoylwf",
    "outputId": "3dd0919c-2eff-423b-e8c2-08aacf46cb9e"
   },
   "outputs": [
    {
     "name": "stdout",
     "output_type": "stream",
     "text": [
      "Train on 7982 samples, validate on 1000 samples\n",
      "Epoch 1/4\n",
      "7982/7982 [==============================] - 2s 194us/step - loss: 1.3404 - accuracy: 0.7020 - val_loss: 0.9245 - val_accuracy: 0.8020\n",
      "Epoch 2/4\n",
      "7982/7982 [==============================] - 1s 139us/step - loss: 0.4532 - accuracy: 0.8948 - val_loss: 0.9850 - val_accuracy: 0.7720\n",
      "Epoch 3/4\n",
      "7982/7982 [==============================] - 1s 142us/step - loss: 0.2563 - accuracy: 0.9375 - val_loss: 1.1752 - val_accuracy: 0.7460\n",
      "Epoch 4/4\n",
      "7982/7982 [==============================] - 1s 141us/step - loss: 0.1927 - accuracy: 0.9460 - val_loss: 1.0513 - val_accuracy: 0.8120\n",
      "2246/2246 [==============================] - 0s 96us/step\n",
      "[1.2275292745999533, 0.7822796106338501]\n"
     ]
    }
   ],
   "source": [
    "# Option 1: Try changing learning rate cont.\n",
    "from keras import optimizers\n",
    "\n",
    "# evaluate under 0.01 learning rate, accuracy is 76.1%, worse\n",
    "network8 = models.Sequential()\n",
    "# single layer\n",
    "network8.add(layers.Dense(64, activation = 'relu', input_shape = (10000,)))\n",
    "network8.add(layers.Dense(46, activation='softmax'))\n",
    "\n",
    "# if learning rate is 0.01, the model converge faster\n",
    "optimizer = optimizers.rmsprop(0.01)\n",
    "\n",
    "network8.compile(\n",
    "    optimizer = optimizer,\n",
    "    loss='categorical_crossentropy',\n",
    "    metrics=['accuracy']\n",
    ")\n",
    "\n",
    "his = network8.fit(\n",
    "    partial_x_train, \n",
    "    partial_y_train, \n",
    "    epochs=4, \n",
    "    batch_size=256, \n",
    "    validation_data=(x_val, y_val)\n",
    ")\n",
    "\n",
    "score = network8.evaluate(x_test, one_hot_test_labels)\n",
    "print(score)"
   ]
  },
  {
   "cell_type": "markdown",
   "metadata": {
    "colab_type": "text",
    "id": "5jDHjzlXzNut"
   },
   "source": [
    "<font color = blue>\n",
    "\n",
    "> (2) Try Adam optimizer </font>"
   ]
  },
  {
   "cell_type": "code",
   "execution_count": null,
   "metadata": {
    "colab": {
     "base_uri": "https://localhost:8080/",
     "height": 746
    },
    "colab_type": "code",
    "id": "p-2nvGnh78Uy",
    "outputId": "96ff876e-98e7-47f1-df00-61efd4c55e81"
   },
   "outputs": [
    {
     "name": "stdout",
     "output_type": "stream",
     "text": [
      "Train on 7982 samples, validate on 1000 samples\n",
      "Epoch 1/20\n",
      "7982/7982 [==============================] - 2s 199us/step - loss: 2.7294 - accuracy: 0.5598 - val_loss: 1.7813 - val_accuracy: 0.6450\n",
      "Epoch 2/20\n",
      "7982/7982 [==============================] - 1s 146us/step - loss: 1.3515 - accuracy: 0.7318 - val_loss: 1.2046 - val_accuracy: 0.7420\n",
      "Epoch 3/20\n",
      "7982/7982 [==============================] - 1s 144us/step - loss: 0.9076 - accuracy: 0.8145 - val_loss: 1.0262 - val_accuracy: 0.7820\n",
      "Epoch 4/20\n",
      "7982/7982 [==============================] - 1s 144us/step - loss: 0.6734 - accuracy: 0.8651 - val_loss: 0.9295 - val_accuracy: 0.8040\n",
      "Epoch 5/20\n",
      "7982/7982 [==============================] - 1s 145us/step - loss: 0.5180 - accuracy: 0.8975 - val_loss: 0.8695 - val_accuracy: 0.8140\n",
      "Epoch 6/20\n",
      "7982/7982 [==============================] - 1s 147us/step - loss: 0.4075 - accuracy: 0.9167 - val_loss: 0.8312 - val_accuracy: 0.8210\n",
      "Epoch 7/20\n",
      "7982/7982 [==============================] - 1s 145us/step - loss: 0.3283 - accuracy: 0.9339 - val_loss: 0.8155 - val_accuracy: 0.8240\n",
      "Epoch 8/20\n",
      "7982/7982 [==============================] - 1s 145us/step - loss: 0.2704 - accuracy: 0.9435 - val_loss: 0.8105 - val_accuracy: 0.8230\n",
      "Epoch 9/20\n",
      "7982/7982 [==============================] - 1s 145us/step - loss: 0.2304 - accuracy: 0.9484 - val_loss: 0.8158 - val_accuracy: 0.8230\n",
      "Epoch 10/20\n",
      "7982/7982 [==============================] - 1s 144us/step - loss: 0.2001 - accuracy: 0.9521 - val_loss: 0.8152 - val_accuracy: 0.8250\n",
      "Epoch 11/20\n",
      "7982/7982 [==============================] - 1s 146us/step - loss: 0.1760 - accuracy: 0.9546 - val_loss: 0.8194 - val_accuracy: 0.8260\n",
      "Epoch 12/20\n",
      "7982/7982 [==============================] - 1s 146us/step - loss: 0.1602 - accuracy: 0.9562 - val_loss: 0.8371 - val_accuracy: 0.8200\n",
      "Epoch 13/20\n",
      "7982/7982 [==============================] - 1s 145us/step - loss: 0.1455 - accuracy: 0.9568 - val_loss: 0.8324 - val_accuracy: 0.8250\n",
      "Epoch 14/20\n",
      "7982/7982 [==============================] - 1s 150us/step - loss: 0.1351 - accuracy: 0.9590 - val_loss: 0.8541 - val_accuracy: 0.8140\n",
      "Epoch 15/20\n",
      "7982/7982 [==============================] - 1s 146us/step - loss: 0.1268 - accuracy: 0.9578 - val_loss: 0.8512 - val_accuracy: 0.8250\n",
      "Epoch 16/20\n",
      "7982/7982 [==============================] - 1s 146us/step - loss: 0.1199 - accuracy: 0.9584 - val_loss: 0.8675 - val_accuracy: 0.8190\n",
      "Epoch 17/20\n",
      "7982/7982 [==============================] - 1s 147us/step - loss: 0.1169 - accuracy: 0.9574 - val_loss: 0.8806 - val_accuracy: 0.8210\n",
      "Epoch 18/20\n",
      "7982/7982 [==============================] - 1s 148us/step - loss: 0.1113 - accuracy: 0.9595 - val_loss: 0.8783 - val_accuracy: 0.8200\n",
      "Epoch 19/20\n",
      "7982/7982 [==============================] - 1s 145us/step - loss: 0.1082 - accuracy: 0.9592 - val_loss: 0.8988 - val_accuracy: 0.8110\n",
      "Epoch 20/20\n",
      "7982/7982 [==============================] - 1s 146us/step - loss: 0.1107 - accuracy: 0.9595 - val_loss: 0.9016 - val_accuracy: 0.8190\n"
     ]
    }
   ],
   "source": [
    "# Option 2: Try adam optimizer\n",
    "\n",
    "# evaluate under epoch = 11\n",
    "network8 = models.Sequential()\n",
    "# single layer\n",
    "network8.add(layers.Dense(64, activation = 'relu', input_shape = (10000,)))\n",
    "network8.add(layers.Dense(46, activation='softmax'))\n",
    "\n",
    "network8.compile(\n",
    "    optimizer = 'adam',\n",
    "    loss='categorical_crossentropy',\n",
    "    metrics=['accuracy']\n",
    ")\n",
    "\n",
    "his = network8.fit(\n",
    "    partial_x_train, \n",
    "    partial_y_train, \n",
    "    epochs=20, \n",
    "    batch_size=256, \n",
    "    validation_data=(x_val, y_val)\n",
    ")\n"
   ]
  },
  {
   "cell_type": "code",
   "execution_count": null,
   "metadata": {
    "colab": {
     "base_uri": "https://localhost:8080/",
     "height": 295
    },
    "colab_type": "code",
    "id": "WqAs-ZnKzgyB",
    "outputId": "f55011a2-1c2f-4927-a2aa-8c3618ea63df"
   },
   "outputs": [
    {
     "data": {
      "image/png": "[encoded data removed]",
      "text/plain": [
       "<Figure size 432x288 with 1 Axes>"
      ]
     },
     "metadata": {
      "needs_background": "light",
      "tags": []
     },
     "output_type": "display_data"
    }
   ],
   "source": [
    "plotLoss(his)"
   ]
  },
  {
   "cell_type": "code",
   "execution_count": null,
   "metadata": {
    "colab": {
     "base_uri": "https://localhost:8080/",
     "height": 295
    },
    "colab_type": "code",
    "id": "blqnHfKCzm3O",
    "outputId": "930f7637-a05a-46b2-f30e-f190203a3ae1"
   },
   "outputs": [
    {
     "data": {
      "image/png": "[encoded data removed]",
      "text/plain": [
       "<Figure size 432x288 with 1 Axes>"
      ]
     },
     "metadata": {
      "needs_background": "light",
      "tags": []
     },
     "output_type": "display_data"
    }
   ],
   "source": [
    "plotAccuracy(his)"
   ]
  },
  {
   "cell_type": "code",
   "execution_count": null,
   "metadata": {
    "colab": {
     "base_uri": "https://localhost:8080/",
     "height": 319
    },
    "colab_type": "code",
    "id": "1rZOKvtuzcJi",
    "outputId": "453d989b-9ab4-49ee-c6d0-7159c7f9b275"
   },
   "outputs": [
    {
     "name": "stdout",
     "output_type": "stream",
     "text": [
      "Train on 7982 samples, validate on 1000 samples\n",
      "Epoch 1/7\n",
      "7982/7982 [==============================] - 3s 365us/step - loss: 2.7372 - accuracy: 0.5322 - val_loss: 1.7745 - val_accuracy: 0.6490\n",
      "Epoch 2/7\n",
      "7982/7982 [==============================] - 2s 256us/step - loss: 1.3528 - accuracy: 0.7298 - val_loss: 1.2143 - val_accuracy: 0.7410\n",
      "Epoch 3/7\n",
      "7982/7982 [==============================] - 2s 258us/step - loss: 0.9229 - accuracy: 0.8101 - val_loss: 1.0258 - val_accuracy: 0.7950\n",
      "Epoch 4/7\n",
      "7982/7982 [==============================] - 1s 150us/step - loss: 0.6782 - accuracy: 0.8673 - val_loss: 0.9278 - val_accuracy: 0.8090\n",
      "Epoch 5/7\n",
      "7982/7982 [==============================] - 1s 150us/step - loss: 0.5139 - accuracy: 0.8983 - val_loss: 0.8667 - val_accuracy: 0.8160\n",
      "Epoch 6/7\n",
      "7982/7982 [==============================] - 1s 152us/step - loss: 0.4004 - accuracy: 0.9197 - val_loss: 0.8310 - val_accuracy: 0.8210\n",
      "Epoch 7/7\n",
      "7982/7982 [==============================] - 1s 150us/step - loss: 0.3230 - accuracy: 0.9349 - val_loss: 0.8256 - val_accuracy: 0.8240\n",
      "2246/2246 [==============================] - 0s 126us/step\n",
      "[0.88619833340734, 0.8058770895004272]\n"
     ]
    }
   ],
   "source": [
    "# Option 2: Try adam optimizer\n",
    "\n",
    "# evaluate under epoch = 7, accuracy is 80.5%, fairly same performance\n",
    "network8 = models.Sequential()\n",
    "# single layer\n",
    "network8.add(layers.Dense(64, activation = 'relu', input_shape = (10000,)))\n",
    "network8.add(layers.Dense(46, activation='softmax'))\n",
    "\n",
    "network8.compile(\n",
    "    optimizer = 'adam',\n",
    "    loss='categorical_crossentropy',\n",
    "    metrics=['accuracy']\n",
    ")\n",
    "\n",
    "his = network8.fit(\n",
    "    partial_x_train, \n",
    "    partial_y_train, \n",
    "    epochs=7, \n",
    "    batch_size=256, \n",
    "    validation_data=(x_val, y_val)\n",
    ")\n",
    "\n",
    "score = network8.evaluate(x_test, one_hot_test_labels)\n",
    "print(score)"
   ]
  },
  {
   "cell_type": "markdown",
   "metadata": {
    "colab_type": "text",
    "id": "qq0xH0hy02gK"
   },
   "source": [
    "<font color = blue>\n",
    "\n",
    "> (3) Try adding 'Dropout' </font>"
   ]
  },
  {
   "cell_type": "code",
   "execution_count": null,
   "metadata": {
    "colab": {
     "base_uri": "https://localhost:8080/",
     "height": 639
    },
    "colab_type": "code",
    "id": "uQF6EWAk07cU",
    "outputId": "4e9e6c05-5edb-44b2-8ba2-145c60060be8"
   },
   "outputs": [
    {
     "name": "stdout",
     "output_type": "stream",
     "text": [
      "Train on 7982 samples, validate on 1000 samples\n",
      "Epoch 1/16\n",
      "7982/7982 [==============================] - 2s 268us/step - loss: 2.8627 - accuracy: 0.4694 - val_loss: 1.8533 - val_accuracy: 0.6160\n",
      "Epoch 2/16\n",
      "7982/7982 [==============================] - 1s 151us/step - loss: 1.5137 - accuracy: 0.6735 - val_loss: 1.2888 - val_accuracy: 0.7030\n",
      "Epoch 3/16\n",
      "7982/7982 [==============================] - 1s 172us/step - loss: 1.0981 - accuracy: 0.7527 - val_loss: 1.1093 - val_accuracy: 0.7490\n",
      "Epoch 4/16\n",
      "7982/7982 [==============================] - 2s 264us/step - loss: 0.8577 - accuracy: 0.8029 - val_loss: 0.9943 - val_accuracy: 0.7960\n",
      "Epoch 5/16\n",
      "7982/7982 [==============================] - 2s 258us/step - loss: 0.6696 - accuracy: 0.8539 - val_loss: 0.9211 - val_accuracy: 0.8120\n",
      "Epoch 6/16\n",
      "7982/7982 [==============================] - 2s 260us/step - loss: 0.5223 - accuracy: 0.8864 - val_loss: 0.8714 - val_accuracy: 0.8210\n",
      "Epoch 7/16\n",
      "7982/7982 [==============================] - 2s 191us/step - loss: 0.4090 - accuracy: 0.9116 - val_loss: 0.8645 - val_accuracy: 0.8190\n",
      "Epoch 8/16\n",
      "7982/7982 [==============================] - 1s 153us/step - loss: 0.3365 - accuracy: 0.9267 - val_loss: 0.8595 - val_accuracy: 0.8250\n",
      "Epoch 9/16\n",
      "7982/7982 [==============================] - 1s 152us/step - loss: 0.2783 - accuracy: 0.9379 - val_loss: 0.8851 - val_accuracy: 0.8180\n",
      "Epoch 10/16\n",
      "7982/7982 [==============================] - 1s 152us/step - loss: 0.2445 - accuracy: 0.9410 - val_loss: 0.8871 - val_accuracy: 0.8340\n",
      "Epoch 11/16\n",
      "7982/7982 [==============================] - 1s 153us/step - loss: 0.2162 - accuracy: 0.9483 - val_loss: 0.9050 - val_accuracy: 0.8240\n",
      "Epoch 12/16\n",
      "7982/7982 [==============================] - 1s 151us/step - loss: 0.1855 - accuracy: 0.9528 - val_loss: 0.9256 - val_accuracy: 0.8160\n",
      "Epoch 13/16\n",
      "7982/7982 [==============================] - 1s 152us/step - loss: 0.1764 - accuracy: 0.9535 - val_loss: 0.9320 - val_accuracy: 0.8240\n",
      "Epoch 14/16\n",
      "7982/7982 [==============================] - 1s 154us/step - loss: 0.1542 - accuracy: 0.9569 - val_loss: 0.9618 - val_accuracy: 0.8200\n",
      "Epoch 15/16\n",
      "7982/7982 [==============================] - 1s 154us/step - loss: 0.1505 - accuracy: 0.9575 - val_loss: 0.9649 - val_accuracy: 0.8210\n",
      "Epoch 16/16\n",
      "7982/7982 [==============================] - 1s 156us/step - loss: 0.1392 - accuracy: 0.9592 - val_loss: 0.9817 - val_accuracy: 0.8260\n",
      "2246/2246 [==============================] - 0s 143us/step\n",
      "[1.1082281490998511, 0.7965271472930908]\n"
     ]
    }
   ],
   "source": [
    "# Option 3: Try adding 'Dropout' (with 'adam' optimizer)\n",
    "\n",
    "# evaluate under epoch = 16, accuracy is 79.6%, no better than before\n",
    "network8 = models.Sequential()\n",
    "# two hidden layer\n",
    "network8.add(layers.Dense(64, activation = 'relu', input_shape = (10000,)))\n",
    "network8.add(layers.Dropout(0.25))\n",
    "network8.add(layers.Dense(64, activation='relu'))\n",
    "network8.add(layers.Dense(46, activation='softmax'))\n",
    "\n",
    "network8.compile(\n",
    "    optimizer = 'adam',\n",
    "    loss='categorical_crossentropy',\n",
    "    metrics=['accuracy']\n",
    ")\n",
    "\n",
    "network8.fit(\n",
    "    partial_x_train, \n",
    "    partial_y_train, \n",
    "    epochs=16, \n",
    "    batch_size=256, \n",
    "    validation_data=(x_val, y_val)\n",
    ")\n",
    "\n",
    "score = network8.evaluate(x_test, one_hot_test_labels)\n",
    "print(score)"
   ]
  },
  {
   "cell_type": "markdown",
   "metadata": {
    "colab_type": "text",
    "id": "l7CGM-0QrOrp"
   },
   "source": [
    "# End\n"
   ]
  },
  {
   "cell_type": "code",
   "execution_count": null,
   "metadata": {
    "colab": {},
    "colab_type": "code",
    "id": "vhJtvqLg-f6W"
   },
   "outputs": [],
   "source": []
  }
 ],
 "metadata": {
  "colab": {
   "collapsed_sections": [],
   "name": "MSIS549_HW1_ErynMeng.ipynb",
   "provenance": []
  },
  "kernelspec": {
   "display_name": "Python 3",
   "language": "python",
   "name": "python3"
  },
  "language_info": {
   "codemirror_mode": {
    "name": "ipython",
    "version": 3
   },
   "file_extension": ".py",
   "mimetype": "text/x-python",
   "name": "python",
   "nbconvert_exporter": "python",
   "pygments_lexer": "ipython3",
   "version": "3.7.4"
  }
 },
 "nbformat": 4,
 "nbformat_minor": 4
}
